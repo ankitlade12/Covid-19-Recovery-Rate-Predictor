{
  "nbformat": 4,
  "nbformat_minor": 0,
  "metadata": {
    "colab": {
      "name": "hw5.ipynb",
      "provenance": [],
      "collapsed_sections": []
    },
    "kernelspec": {
      "name": "python3",
      "display_name": "Python 3"
    }
  },
  "cells": [
    {
      "cell_type": "code",
      "metadata": {
        "id": "0QLwX3h8JV28",
        "colab_type": "code",
        "colab": {
          "base_uri": "https://localhost:8080/",
          "height": 51
        },
        "outputId": "949d2b11-f823-4c38-e994-3b074b70c732"
      },
      "source": [
        "import numpy as np\n",
        "import pandas as pd\n",
        "import seaborn as sb\n",
        "import matplotlib.pyplot as plt"
      ],
      "execution_count": 1,
      "outputs": [
        {
          "output_type": "stream",
          "text": [
            "/usr/local/lib/python3.6/dist-packages/statsmodels/tools/_testing.py:19: FutureWarning: pandas.util.testing is deprecated. Use the functions in the public API at pandas.testing instead.\n",
            "  import pandas.util.testing as tm\n"
          ],
          "name": "stderr"
        }
      ]
    },
    {
      "cell_type": "code",
      "metadata": {
        "id": "Vjj6cNeFJovf",
        "colab_type": "code",
        "colab": {}
      },
      "source": [
        "df = pd.read_csv('covid.csv')"
      ],
      "execution_count": 0,
      "outputs": []
    },
    {
      "cell_type": "code",
      "metadata": {
        "id": "0sf3QFteKZUQ",
        "colab_type": "code",
        "colab": {
          "base_uri": "https://localhost:8080/",
          "height": 496
        },
        "outputId": "54273a2f-b367-4b63-82e5-e546b02ec6f2"
      },
      "source": [
        "df.head()"
      ],
      "execution_count": 3,
      "outputs": [
        {
          "output_type": "execute_result",
          "data": {
            "text/html": [
              "<div>\n",
              "<style scoped>\n",
              "    .dataframe tbody tr th:only-of-type {\n",
              "        vertical-align: middle;\n",
              "    }\n",
              "\n",
              "    .dataframe tbody tr th {\n",
              "        vertical-align: top;\n",
              "    }\n",
              "\n",
              "    .dataframe thead th {\n",
              "        text-align: right;\n",
              "    }\n",
              "</style>\n",
              "<table border=\"1\" class=\"dataframe\">\n",
              "  <thead>\n",
              "    <tr style=\"text-align: right;\">\n",
              "      <th></th>\n",
              "      <th>Age</th>\n",
              "      <th>Country</th>\n",
              "      <th>Gender</th>\n",
              "      <th>Symptoms</th>\n",
              "      <th>Diarrhea</th>\n",
              "      <th>Sputum</th>\n",
              "      <th>Chills</th>\n",
              "      <th>Shortness of Breath</th>\n",
              "      <th>Other Resperatory Symptoms</th>\n",
              "      <th>Malaise</th>\n",
              "      <th>Rhinorrhea</th>\n",
              "      <th>Headache</th>\n",
              "      <th>Pneumonia</th>\n",
              "      <th>mild symptoms</th>\n",
              "      <th>chest pain</th>\n",
              "      <th>sore throat</th>\n",
              "      <th>cough</th>\n",
              "      <th>fever</th>\n",
              "      <th>sneezing</th>\n",
              "      <th>Pneumonitis</th>\n",
              "      <th>LivesInWuhan</th>\n",
              "      <th>TravelHistoryLocation</th>\n",
              "      <th>ChronicDiseaseQ</th>\n",
              "      <th>DeathQ</th>\n",
              "    </tr>\n",
              "  </thead>\n",
              "  <tbody>\n",
              "    <tr>\n",
              "      <th>0</th>\n",
              "      <td>group5(40-49)</td>\n",
              "      <td>China</td>\n",
              "      <td>Female</td>\n",
              "      <td>\"cough\", \"fatigue\", \"fever\", \"sputum\", \"myalgias\"</td>\n",
              "      <td>0</td>\n",
              "      <td>1</td>\n",
              "      <td>0</td>\n",
              "      <td>0</td>\n",
              "      <td>0</td>\n",
              "      <td>0</td>\n",
              "      <td>0</td>\n",
              "      <td>0</td>\n",
              "      <td>0</td>\n",
              "      <td>0</td>\n",
              "      <td>0</td>\n",
              "      <td>0</td>\n",
              "      <td>1</td>\n",
              "      <td>1</td>\n",
              "      <td>0</td>\n",
              "      <td>0</td>\n",
              "      <td>1</td>\n",
              "      <td>NaN</td>\n",
              "      <td>1</td>\n",
              "      <td>1</td>\n",
              "    </tr>\n",
              "    <tr>\n",
              "      <th>1</th>\n",
              "      <td>group6(50-59)</td>\n",
              "      <td>China</td>\n",
              "      <td>Male</td>\n",
              "      <td>\"cough\", \"sputum\", \"fever\"</td>\n",
              "      <td>0</td>\n",
              "      <td>1</td>\n",
              "      <td>0</td>\n",
              "      <td>0</td>\n",
              "      <td>0</td>\n",
              "      <td>0</td>\n",
              "      <td>0</td>\n",
              "      <td>0</td>\n",
              "      <td>0</td>\n",
              "      <td>0</td>\n",
              "      <td>0</td>\n",
              "      <td>0</td>\n",
              "      <td>1</td>\n",
              "      <td>1</td>\n",
              "      <td>0</td>\n",
              "      <td>0</td>\n",
              "      <td>1</td>\n",
              "      <td>NaN</td>\n",
              "      <td>0</td>\n",
              "      <td>1</td>\n",
              "    </tr>\n",
              "    <tr>\n",
              "      <th>2</th>\n",
              "      <td>group7(60-69)</td>\n",
              "      <td>China</td>\n",
              "      <td>Male</td>\n",
              "      <td>\"cough\"</td>\n",
              "      <td>0</td>\n",
              "      <td>0</td>\n",
              "      <td>0</td>\n",
              "      <td>0</td>\n",
              "      <td>0</td>\n",
              "      <td>0</td>\n",
              "      <td>0</td>\n",
              "      <td>0</td>\n",
              "      <td>0</td>\n",
              "      <td>0</td>\n",
              "      <td>0</td>\n",
              "      <td>0</td>\n",
              "      <td>1</td>\n",
              "      <td>0</td>\n",
              "      <td>0</td>\n",
              "      <td>0</td>\n",
              "      <td>1</td>\n",
              "      <td>NaN</td>\n",
              "      <td>0</td>\n",
              "      <td>1</td>\n",
              "    </tr>\n",
              "    <tr>\n",
              "      <th>3</th>\n",
              "      <td>group5(40-49)</td>\n",
              "      <td>China</td>\n",
              "      <td>Female</td>\n",
              "      <td>\"chest pain\", \"cough\", \"fever\"</td>\n",
              "      <td>0</td>\n",
              "      <td>0</td>\n",
              "      <td>0</td>\n",
              "      <td>0</td>\n",
              "      <td>0</td>\n",
              "      <td>0</td>\n",
              "      <td>0</td>\n",
              "      <td>0</td>\n",
              "      <td>0</td>\n",
              "      <td>0</td>\n",
              "      <td>1</td>\n",
              "      <td>0</td>\n",
              "      <td>1</td>\n",
              "      <td>1</td>\n",
              "      <td>0</td>\n",
              "      <td>0</td>\n",
              "      <td>1</td>\n",
              "      <td>NaN</td>\n",
              "      <td>1</td>\n",
              "      <td>0</td>\n",
              "    </tr>\n",
              "    <tr>\n",
              "      <th>4</th>\n",
              "      <td>group7(60-69)</td>\n",
              "      <td>China</td>\n",
              "      <td>Male</td>\n",
              "      <td>\"chest pain\", \"shortness of breath\", \"fever\"</td>\n",
              "      <td>0</td>\n",
              "      <td>0</td>\n",
              "      <td>0</td>\n",
              "      <td>1</td>\n",
              "      <td>0</td>\n",
              "      <td>0</td>\n",
              "      <td>0</td>\n",
              "      <td>0</td>\n",
              "      <td>0</td>\n",
              "      <td>0</td>\n",
              "      <td>1</td>\n",
              "      <td>0</td>\n",
              "      <td>0</td>\n",
              "      <td>1</td>\n",
              "      <td>0</td>\n",
              "      <td>0</td>\n",
              "      <td>1</td>\n",
              "      <td>China</td>\n",
              "      <td>0</td>\n",
              "      <td>0</td>\n",
              "    </tr>\n",
              "  </tbody>\n",
              "</table>\n",
              "</div>"
            ],
            "text/plain": [
              "             Age Country  Gender  ... TravelHistoryLocation  ChronicDiseaseQ  DeathQ\n",
              "0  group5(40-49)   China  Female  ...                   NaN                1       1\n",
              "1  group6(50-59)   China    Male  ...                   NaN                0       1\n",
              "2  group7(60-69)   China    Male  ...                   NaN                0       1\n",
              "3  group5(40-49)   China  Female  ...                   NaN                1       0\n",
              "4  group7(60-69)   China    Male  ...                 China                0       0\n",
              "\n",
              "[5 rows x 24 columns]"
            ]
          },
          "metadata": {
            "tags": []
          },
          "execution_count": 3
        }
      ]
    },
    {
      "cell_type": "code",
      "metadata": {
        "id": "qAqhukOiKgGq",
        "colab_type": "code",
        "colab": {
          "base_uri": "https://localhost:8080/",
          "height": 119
        },
        "outputId": "c3699fd7-83a7-4f35-b985-626a14ced581"
      },
      "source": [
        "df.columns"
      ],
      "execution_count": 4,
      "outputs": [
        {
          "output_type": "execute_result",
          "data": {
            "text/plain": [
              "Index(['Age', 'Country', 'Gender', 'Symptoms', 'Diarrhea', 'Sputum', 'Chills',\n",
              "       'Shortness of Breath', 'Other Resperatory Symptoms', 'Malaise',\n",
              "       'Rhinorrhea', 'Headache', 'Pneumonia', 'mild symptoms', 'chest pain',\n",
              "       'sore throat', 'cough', 'fever', 'sneezing', 'Pneumonitis',\n",
              "       'LivesInWuhan', 'TravelHistoryLocation', 'ChronicDiseaseQ', 'DeathQ'],\n",
              "      dtype='object')"
            ]
          },
          "metadata": {
            "tags": []
          },
          "execution_count": 4
        }
      ]
    },
    {
      "cell_type": "code",
      "metadata": {
        "id": "K4ZNtxdlKjKI",
        "colab_type": "code",
        "colab": {}
      },
      "source": [
        "df.drop('Symptoms',axis=1,inplace=True)"
      ],
      "execution_count": 0,
      "outputs": []
    },
    {
      "cell_type": "code",
      "metadata": {
        "id": "XOq7BMv4Kzax",
        "colab_type": "code",
        "colab": {
          "base_uri": "https://localhost:8080/",
          "height": 343
        },
        "outputId": "d5f41e66-eeb2-48a9-ee3a-98abd3c53dff"
      },
      "source": [
        "df.head()"
      ],
      "execution_count": 6,
      "outputs": [
        {
          "output_type": "execute_result",
          "data": {
            "text/html": [
              "<div>\n",
              "<style scoped>\n",
              "    .dataframe tbody tr th:only-of-type {\n",
              "        vertical-align: middle;\n",
              "    }\n",
              "\n",
              "    .dataframe tbody tr th {\n",
              "        vertical-align: top;\n",
              "    }\n",
              "\n",
              "    .dataframe thead th {\n",
              "        text-align: right;\n",
              "    }\n",
              "</style>\n",
              "<table border=\"1\" class=\"dataframe\">\n",
              "  <thead>\n",
              "    <tr style=\"text-align: right;\">\n",
              "      <th></th>\n",
              "      <th>Age</th>\n",
              "      <th>Country</th>\n",
              "      <th>Gender</th>\n",
              "      <th>Diarrhea</th>\n",
              "      <th>Sputum</th>\n",
              "      <th>Chills</th>\n",
              "      <th>Shortness of Breath</th>\n",
              "      <th>Other Resperatory Symptoms</th>\n",
              "      <th>Malaise</th>\n",
              "      <th>Rhinorrhea</th>\n",
              "      <th>Headache</th>\n",
              "      <th>Pneumonia</th>\n",
              "      <th>mild symptoms</th>\n",
              "      <th>chest pain</th>\n",
              "      <th>sore throat</th>\n",
              "      <th>cough</th>\n",
              "      <th>fever</th>\n",
              "      <th>sneezing</th>\n",
              "      <th>Pneumonitis</th>\n",
              "      <th>LivesInWuhan</th>\n",
              "      <th>TravelHistoryLocation</th>\n",
              "      <th>ChronicDiseaseQ</th>\n",
              "      <th>DeathQ</th>\n",
              "    </tr>\n",
              "  </thead>\n",
              "  <tbody>\n",
              "    <tr>\n",
              "      <th>0</th>\n",
              "      <td>group5(40-49)</td>\n",
              "      <td>China</td>\n",
              "      <td>Female</td>\n",
              "      <td>0</td>\n",
              "      <td>1</td>\n",
              "      <td>0</td>\n",
              "      <td>0</td>\n",
              "      <td>0</td>\n",
              "      <td>0</td>\n",
              "      <td>0</td>\n",
              "      <td>0</td>\n",
              "      <td>0</td>\n",
              "      <td>0</td>\n",
              "      <td>0</td>\n",
              "      <td>0</td>\n",
              "      <td>1</td>\n",
              "      <td>1</td>\n",
              "      <td>0</td>\n",
              "      <td>0</td>\n",
              "      <td>1</td>\n",
              "      <td>NaN</td>\n",
              "      <td>1</td>\n",
              "      <td>1</td>\n",
              "    </tr>\n",
              "    <tr>\n",
              "      <th>1</th>\n",
              "      <td>group6(50-59)</td>\n",
              "      <td>China</td>\n",
              "      <td>Male</td>\n",
              "      <td>0</td>\n",
              "      <td>1</td>\n",
              "      <td>0</td>\n",
              "      <td>0</td>\n",
              "      <td>0</td>\n",
              "      <td>0</td>\n",
              "      <td>0</td>\n",
              "      <td>0</td>\n",
              "      <td>0</td>\n",
              "      <td>0</td>\n",
              "      <td>0</td>\n",
              "      <td>0</td>\n",
              "      <td>1</td>\n",
              "      <td>1</td>\n",
              "      <td>0</td>\n",
              "      <td>0</td>\n",
              "      <td>1</td>\n",
              "      <td>NaN</td>\n",
              "      <td>0</td>\n",
              "      <td>1</td>\n",
              "    </tr>\n",
              "    <tr>\n",
              "      <th>2</th>\n",
              "      <td>group7(60-69)</td>\n",
              "      <td>China</td>\n",
              "      <td>Male</td>\n",
              "      <td>0</td>\n",
              "      <td>0</td>\n",
              "      <td>0</td>\n",
              "      <td>0</td>\n",
              "      <td>0</td>\n",
              "      <td>0</td>\n",
              "      <td>0</td>\n",
              "      <td>0</td>\n",
              "      <td>0</td>\n",
              "      <td>0</td>\n",
              "      <td>0</td>\n",
              "      <td>0</td>\n",
              "      <td>1</td>\n",
              "      <td>0</td>\n",
              "      <td>0</td>\n",
              "      <td>0</td>\n",
              "      <td>1</td>\n",
              "      <td>NaN</td>\n",
              "      <td>0</td>\n",
              "      <td>1</td>\n",
              "    </tr>\n",
              "    <tr>\n",
              "      <th>3</th>\n",
              "      <td>group5(40-49)</td>\n",
              "      <td>China</td>\n",
              "      <td>Female</td>\n",
              "      <td>0</td>\n",
              "      <td>0</td>\n",
              "      <td>0</td>\n",
              "      <td>0</td>\n",
              "      <td>0</td>\n",
              "      <td>0</td>\n",
              "      <td>0</td>\n",
              "      <td>0</td>\n",
              "      <td>0</td>\n",
              "      <td>0</td>\n",
              "      <td>1</td>\n",
              "      <td>0</td>\n",
              "      <td>1</td>\n",
              "      <td>1</td>\n",
              "      <td>0</td>\n",
              "      <td>0</td>\n",
              "      <td>1</td>\n",
              "      <td>NaN</td>\n",
              "      <td>1</td>\n",
              "      <td>0</td>\n",
              "    </tr>\n",
              "    <tr>\n",
              "      <th>4</th>\n",
              "      <td>group7(60-69)</td>\n",
              "      <td>China</td>\n",
              "      <td>Male</td>\n",
              "      <td>0</td>\n",
              "      <td>0</td>\n",
              "      <td>0</td>\n",
              "      <td>1</td>\n",
              "      <td>0</td>\n",
              "      <td>0</td>\n",
              "      <td>0</td>\n",
              "      <td>0</td>\n",
              "      <td>0</td>\n",
              "      <td>0</td>\n",
              "      <td>1</td>\n",
              "      <td>0</td>\n",
              "      <td>0</td>\n",
              "      <td>1</td>\n",
              "      <td>0</td>\n",
              "      <td>0</td>\n",
              "      <td>1</td>\n",
              "      <td>China</td>\n",
              "      <td>0</td>\n",
              "      <td>0</td>\n",
              "    </tr>\n",
              "  </tbody>\n",
              "</table>\n",
              "</div>"
            ],
            "text/plain": [
              "             Age Country  Gender  ...  TravelHistoryLocation  ChronicDiseaseQ  DeathQ\n",
              "0  group5(40-49)   China  Female  ...                    NaN                1       1\n",
              "1  group6(50-59)   China    Male  ...                    NaN                0       1\n",
              "2  group7(60-69)   China    Male  ...                    NaN                0       1\n",
              "3  group5(40-49)   China  Female  ...                    NaN                1       0\n",
              "4  group7(60-69)   China    Male  ...                  China                0       0\n",
              "\n",
              "[5 rows x 23 columns]"
            ]
          },
          "metadata": {
            "tags": []
          },
          "execution_count": 6
        }
      ]
    },
    {
      "cell_type": "markdown",
      "metadata": {
        "id": "ZEHBnVHRNpim",
        "colab_type": "text"
      },
      "source": [
        "# checking the data distribution "
      ]
    },
    {
      "cell_type": "code",
      "metadata": {
        "id": "1Yv15BBbLB7L",
        "colab_type": "code",
        "colab": {
          "base_uri": "https://localhost:8080/",
          "height": 442
        },
        "outputId": "bb252df6-2975-439b-8db1-58e23a5208f3"
      },
      "source": [
        "plt.figure(figsize = (3,7))\n",
        "b = sb.countplot(df['DeathQ'])\n",
        "#values on top of bars\n",
        "for p in b.patches:\n",
        "    b.annotate(format(p.get_height()), (p.get_x() + p.get_width() / 2., \n",
        "    p.get_height()), ha = 'center', va = 'center', xytext = (0, 10), textcoords = 'offset points', fontsize = 10)\n",
        "plt.show()"
      ],
      "execution_count": 7,
      "outputs": [
        {
          "output_type": "display_data",
          "data": {
            "image/png": "[encoded data removed]",
            "text/plain": [
              "<Figure size 216x504 with 1 Axes>"
            ]
          },
          "metadata": {
            "tags": [],
            "needs_background": "light"
          }
        }
      ]
    },
    {
      "cell_type": "code",
      "metadata": {
        "id": "49D0nlyULZuo",
        "colab_type": "code",
        "colab": {
          "base_uri": "https://localhost:8080/",
          "height": 85
        },
        "outputId": "e036e9e0-de74-403f-9728-9c4284075055"
      },
      "source": [
        "print('Proportion of the classes in the data:')\n",
        "print(df['DeathQ'].value_counts() / len(df))"
      ],
      "execution_count": 8,
      "outputs": [
        {
          "output_type": "stream",
          "text": [
            "Proportion of the classes in the data:\n",
            "0    0.93832\n",
            "1    0.06168\n",
            "Name: DeathQ, dtype: float64\n"
          ],
          "name": "stdout"
        }
      ]
    },
    {
      "cell_type": "markdown",
      "metadata": {
        "id": "LtMy4mBCLtae",
        "colab_type": "text"
      },
      "source": [
        "# we can see that the data is highly imbalanced, 93% of the data belongs to class 0, which is \"not dead\" and 6% of the data belongs to the class 1, which is dead. Feeding imbalanced data to your classifier can make it biased in favor of the majority class, simply because it did not have enough data to learn about the minority and hence to overcome this i will be using Smote technique."
      ]
    },
    {
      "cell_type": "code",
      "metadata": {
        "id": "jDysp6KZMFM8",
        "colab_type": "code",
        "colab": {
          "base_uri": "https://localhost:8080/",
          "height": 989
        },
        "outputId": "3b1965ba-54aa-4e0b-dd07-2a067a900079"
      },
      "source": [
        "print (\"Rows     : \" ,df.shape[0])\n",
        "print (\"Columns  : \" ,df.shape[1])\n",
        "print (\"\\nFeatures : \\n\" ,df.columns.tolist())\n",
        "print (\"\\nMissing values :  \", df.isnull().any())\n",
        "print (\"\\nUnique values :  \\n\",df.nunique())"
      ],
      "execution_count": 9,
      "outputs": [
        {
          "output_type": "stream",
          "text": [
            "Rows     :  762\n",
            "Columns  :  23\n",
            "\n",
            "Features : \n",
            " ['Age', 'Country', 'Gender', 'Diarrhea', 'Sputum', 'Chills', 'Shortness of Breath', 'Other Resperatory Symptoms', 'Malaise', 'Rhinorrhea', 'Headache', 'Pneumonia', 'mild symptoms', 'chest pain', 'sore throat', 'cough', 'fever', 'sneezing', 'Pneumonitis', 'LivesInWuhan', 'TravelHistoryLocation', 'ChronicDiseaseQ', 'DeathQ']\n",
            "\n",
            "Missing values :   Age                            True\n",
            "Country                       False\n",
            "Gender                        False\n",
            "Diarrhea                      False\n",
            "Sputum                        False\n",
            "Chills                        False\n",
            "Shortness of Breath           False\n",
            "Other Resperatory Symptoms    False\n",
            "Malaise                       False\n",
            "Rhinorrhea                    False\n",
            "Headache                      False\n",
            "Pneumonia                     False\n",
            "mild symptoms                 False\n",
            "chest pain                    False\n",
            "sore throat                   False\n",
            "cough                         False\n",
            "fever                         False\n",
            "sneezing                      False\n",
            "Pneumonitis                   False\n",
            "LivesInWuhan                  False\n",
            "TravelHistoryLocation          True\n",
            "ChronicDiseaseQ               False\n",
            "DeathQ                        False\n",
            "dtype: bool\n",
            "\n",
            "Unique values :  \n",
            " Age                           10\n",
            "Country                       41\n",
            "Gender                         2\n",
            "Diarrhea                       2\n",
            "Sputum                         2\n",
            "Chills                         2\n",
            "Shortness of Breath            2\n",
            "Other Resperatory Symptoms     2\n",
            "Malaise                        2\n",
            "Rhinorrhea                     2\n",
            "Headache                       2\n",
            "Pneumonia                      2\n",
            "mild symptoms                  2\n",
            "chest pain                     2\n",
            "sore throat                    2\n",
            "cough                          2\n",
            "fever                          2\n",
            "sneezing                       2\n",
            "Pneumonitis                    2\n",
            "LivesInWuhan                   3\n",
            "TravelHistoryLocation         30\n",
            "ChronicDiseaseQ                2\n",
            "DeathQ                         2\n",
            "dtype: int64\n"
          ],
          "name": "stdout"
        }
      ]
    },
    {
      "cell_type": "markdown",
      "metadata": {
        "id": "CfEyg2x4Ni-J",
        "colab_type": "text"
      },
      "source": [
        "# Handeling missing values"
      ]
    },
    {
      "cell_type": "code",
      "metadata": {
        "id": "QNcMLVMCqNmV",
        "colab_type": "code",
        "colab": {
          "base_uri": "https://localhost:8080/",
          "height": 425
        },
        "outputId": "799d6052-6ca0-4c36-f40c-c5d2d0eaa9b7"
      },
      "source": [
        "import numpy as np\n",
        "df.isnull().sum()"
      ],
      "execution_count": 10,
      "outputs": [
        {
          "output_type": "execute_result",
          "data": {
            "text/plain": [
              "Age                            23\n",
              "Country                         0\n",
              "Gender                          0\n",
              "Diarrhea                        0\n",
              "Sputum                          0\n",
              "Chills                          0\n",
              "Shortness of Breath             0\n",
              "Other Resperatory Symptoms      0\n",
              "Malaise                         0\n",
              "Rhinorrhea                      0\n",
              "Headache                        0\n",
              "Pneumonia                       0\n",
              "mild symptoms                   0\n",
              "chest pain                      0\n",
              "sore throat                     0\n",
              "cough                           0\n",
              "fever                           0\n",
              "sneezing                        0\n",
              "Pneumonitis                     0\n",
              "LivesInWuhan                    0\n",
              "TravelHistoryLocation         143\n",
              "ChronicDiseaseQ                 0\n",
              "DeathQ                          0\n",
              "dtype: int64"
            ]
          },
          "metadata": {
            "tags": []
          },
          "execution_count": 10
        }
      ]
    },
    {
      "cell_type": "code",
      "metadata": {
        "id": "C_ics3ZIqy-Q",
        "colab_type": "code",
        "colab": {}
      },
      "source": [
        "#droping age missing records because age is already split intoo bins\n",
        "\n",
        "df = df[df['Age'].notna()]"
      ],
      "execution_count": 0,
      "outputs": []
    },
    {
      "cell_type": "markdown",
      "metadata": {
        "id": "AvpCgCaTtLEU",
        "colab_type": "text"
      },
      "source": [
        "**I donot want to drop missing values in columns  TravelHistoryLocation and  because by droping those records i will loose lot of information and hence i will replace all the missing  values in all these columns with \"unknown\"**"
      ]
    },
    {
      "cell_type": "code",
      "metadata": {
        "id": "7nXZj_ApstdN",
        "colab_type": "code",
        "colab": {}
      },
      "source": [
        "\n",
        "df[\"TravelHistoryLocation\"].fillna(\"unknown\", inplace = True)\n"
      ],
      "execution_count": 0,
      "outputs": []
    },
    {
      "cell_type": "code",
      "metadata": {
        "id": "hlJgT1Wsd6oh",
        "colab_type": "code",
        "colab": {
          "base_uri": "https://localhost:8080/",
          "height": 425
        },
        "outputId": "cd497fd3-4f06-4f22-d4c2-eea6ff184783"
      },
      "source": [
        "df.isnull().sum()"
      ],
      "execution_count": 13,
      "outputs": [
        {
          "output_type": "execute_result",
          "data": {
            "text/plain": [
              "Age                           0\n",
              "Country                       0\n",
              "Gender                        0\n",
              "Diarrhea                      0\n",
              "Sputum                        0\n",
              "Chills                        0\n",
              "Shortness of Breath           0\n",
              "Other Resperatory Symptoms    0\n",
              "Malaise                       0\n",
              "Rhinorrhea                    0\n",
              "Headache                      0\n",
              "Pneumonia                     0\n",
              "mild symptoms                 0\n",
              "chest pain                    0\n",
              "sore throat                   0\n",
              "cough                         0\n",
              "fever                         0\n",
              "sneezing                      0\n",
              "Pneumonitis                   0\n",
              "LivesInWuhan                  0\n",
              "TravelHistoryLocation         0\n",
              "ChronicDiseaseQ               0\n",
              "DeathQ                        0\n",
              "dtype: int64"
            ]
          },
          "metadata": {
            "tags": []
          },
          "execution_count": 13
        }
      ]
    },
    {
      "cell_type": "code",
      "metadata": {
        "id": "zKVpj4OTOjbL",
        "colab_type": "code",
        "colab": {
          "base_uri": "https://localhost:8080/",
          "height": 527
        },
        "outputId": "713bb8cf-6976-4811-ac3e-ce4619d013bb"
      },
      "source": [
        "df.info()"
      ],
      "execution_count": 14,
      "outputs": [
        {
          "output_type": "stream",
          "text": [
            "<class 'pandas.core.frame.DataFrame'>\n",
            "Int64Index: 739 entries, 0 to 761\n",
            "Data columns (total 23 columns):\n",
            " #   Column                      Non-Null Count  Dtype \n",
            "---  ------                      --------------  ----- \n",
            " 0   Age                         739 non-null    object\n",
            " 1   Country                     739 non-null    object\n",
            " 2   Gender                      739 non-null    object\n",
            " 3   Diarrhea                    739 non-null    int64 \n",
            " 4   Sputum                      739 non-null    int64 \n",
            " 5   Chills                      739 non-null    int64 \n",
            " 6   Shortness of Breath         739 non-null    int64 \n",
            " 7   Other Resperatory Symptoms  739 non-null    int64 \n",
            " 8   Malaise                     739 non-null    int64 \n",
            " 9   Rhinorrhea                  739 non-null    int64 \n",
            " 10  Headache                    739 non-null    int64 \n",
            " 11  Pneumonia                   739 non-null    int64 \n",
            " 12  mild symptoms               739 non-null    int64 \n",
            " 13  chest pain                  739 non-null    int64 \n",
            " 14  sore throat                 739 non-null    int64 \n",
            " 15  cough                       739 non-null    int64 \n",
            " 16  fever                       739 non-null    int64 \n",
            " 17  sneezing                    739 non-null    int64 \n",
            " 18  Pneumonitis                 739 non-null    int64 \n",
            " 19  LivesInWuhan                739 non-null    int64 \n",
            " 20  TravelHistoryLocation       739 non-null    object\n",
            " 21  ChronicDiseaseQ             739 non-null    int64 \n",
            " 22  DeathQ                      739 non-null    int64 \n",
            "dtypes: int64(19), object(4)\n",
            "memory usage: 138.6+ KB\n"
          ],
          "name": "stdout"
        }
      ]
    },
    {
      "cell_type": "markdown",
      "metadata": {
        "id": "UY3bDwBas-Cz",
        "colab_type": "text"
      },
      "source": [
        "# **Exploratory Data Analysis**"
      ]
    },
    {
      "cell_type": "code",
      "metadata": {
        "id": "-V5O0ygsStq6",
        "colab_type": "code",
        "colab": {}
      },
      "source": [
        "def graph1(var):\n",
        "    import seaborn as sns\n",
        "    sns.set(style=\"darkgrid\")\n",
        "    sns.set_palette(\"hls\", 3)\n",
        "    fig, ax = plt.subplots(figsize=(20,5))\n",
        "    ax = sns.countplot(x= var, hue=\"DeathQ\", data=df)\n",
        "\n",
        "    for p in ax.patches:\n",
        "        height = p.get_height()\n",
        "        ax.text(p.get_x()+p.get_width()/2.,height + 3,'{:1.2f}'.format(height/df.shape[0]), ha=\"center\")"
      ],
      "execution_count": 0,
      "outputs": []
    },
    {
      "cell_type": "code",
      "metadata": {
        "id": "eLynVBpoUNm1",
        "colab_type": "code",
        "colab": {
          "base_uri": "https://localhost:8080/",
          "height": 342
        },
        "outputId": "6339f074-95c3-46dd-c7a5-f95b1b0e4737"
      },
      "source": [
        "graph1(\"ChronicDiseaseQ\")"
      ],
      "execution_count": 16,
      "outputs": [
        {
          "output_type": "display_data",
          "data": {
            "image/png": "[encoded data removed]",
            "text/plain": [
              "<Figure size 1440x360 with 1 Axes>"
            ]
          },
          "metadata": {
            "tags": []
          }
        }
      ]
    },
    {
      "cell_type": "markdown",
      "metadata": {
        "id": "wzeRQCv6UvEP",
        "colab_type": "text"
      },
      "source": [
        "#we can see that out of total 6% died, 4% of the population have some chronic diseases while others dont have any"
      ]
    },
    {
      "cell_type": "code",
      "metadata": {
        "id": "ff-MCih6XF4X",
        "colab_type": "code",
        "colab": {
          "base_uri": "https://localhost:8080/",
          "height": 546
        },
        "outputId": "9f5d4b8b-247e-4b7b-e383-897587c58c81"
      },
      "source": [
        "graph1(\"Age\")"
      ],
      "execution_count": 17,
      "outputs": [
        {
          "output_type": "stream",
          "text": [
            "posx and posy should be finite values\n",
            "posx and posy should be finite values\n",
            "posx and posy should be finite values\n",
            "posx and posy should be finite values\n",
            "posx and posy should be finite values\n",
            "posx and posy should be finite values\n",
            "posx and posy should be finite values\n",
            "posx and posy should be finite values\n",
            "posx and posy should be finite values\n",
            "posx and posy should be finite values\n",
            "posx and posy should be finite values\n",
            "posx and posy should be finite values\n"
          ],
          "name": "stderr"
        },
        {
          "output_type": "display_data",
          "data": {
            "image/png": "[encoded data removed]",
            "text/plain": [
              "<Figure size 1440x360 with 1 Axes>"
            ]
          },
          "metadata": {
            "tags": []
          }
        }
      ]
    },
    {
      "cell_type": "markdown",
      "metadata": {
        "id": "v_1KAgu9XUtA",
        "colab_type": "text"
      },
      "source": [
        "# we can notice high death rate among older populations from the above graph,out of 6% total deaths, 5% are among the population with age group 60 and above"
      ]
    },
    {
      "cell_type": "code",
      "metadata": {
        "id": "QOzfF9VlYC9m",
        "colab_type": "code",
        "colab": {
          "base_uri": "https://localhost:8080/",
          "height": 339
        },
        "outputId": "1f253067-0374-4b71-a8cc-2e3ee68957bf"
      },
      "source": [
        "graph1(\"Gender\") "
      ],
      "execution_count": 18,
      "outputs": [
        {
          "output_type": "display_data",
          "data": {
            "image/png": "[encoded data removed]",
            "text/plain": [
              "<Figure size 1440x360 with 1 Axes>"
            ]
          },
          "metadata": {
            "tags": []
          }
        }
      ]
    },
    {
      "cell_type": "code",
      "metadata": {
        "id": "62t4hU_9gyay",
        "colab_type": "code",
        "colab": {
          "base_uri": "https://localhost:8080/",
          "height": 339
        },
        "outputId": "530a747f-b725-4267-c88b-6399c108b91d"
      },
      "source": [
        " \n",
        " graph1(\"Diarrhea\")"
      ],
      "execution_count": 19,
      "outputs": [
        {
          "output_type": "display_data",
          "data": {
            "image/png": "[encoded data removed]",
            "text/plain": [
              "<Figure size 1440x360 with 1 Axes>"
            ]
          },
          "metadata": {
            "tags": []
          }
        }
      ]
    },
    {
      "cell_type": "markdown",
      "metadata": {
        "id": "EP68XbP1hWtx",
        "colab_type": "text"
      },
      "source": [
        "#clearly there are zero deaths from patients reporting \"Diarrhea\" and hence there is no point in adding this variable to our predictive model hence i would be droping it after confirming my results from Logistic regression."
      ]
    },
    {
      "cell_type": "code",
      "metadata": {
        "id": "D3VwiqeZhMoU",
        "colab_type": "code",
        "colab": {
          "base_uri": "https://localhost:8080/",
          "height": 341
        },
        "outputId": "554d7376-ccbf-4b0b-9147-b8d3a017cfbe"
      },
      "source": [
        " graph1(\"Sputum\")"
      ],
      "execution_count": 20,
      "outputs": [
        {
          "output_type": "display_data",
          "data": {
            "image/png": "[encoded data removed]",
            "text/plain": [
              "<Figure size 1440x360 with 1 Axes>"
            ]
          },
          "metadata": {
            "tags": []
          }
        }
      ]
    },
    {
      "cell_type": "markdown",
      "metadata": {
        "id": "BT5mBxvjipV8",
        "colab_type": "text"
      },
      "source": [
        "#clearly there are zero deaths from patients reporting \"sputum\" aswell and hence there is no point in adding this variable to our predictive model hence i would be droping it after confirming my results from Logistic regression."
      ]
    },
    {
      "cell_type": "code",
      "metadata": {
        "id": "EVN2eBpKimoq",
        "colab_type": "code",
        "colab": {
          "base_uri": "https://localhost:8080/",
          "height": 343
        },
        "outputId": "a5ead581-6e5e-4bc3-9789-0afc42f25f0e"
      },
      "source": [
        "graph1(\"Chills\")"
      ],
      "execution_count": 21,
      "outputs": [
        {
          "output_type": "display_data",
          "data": {
            "image/png": "[encoded data removed]",
            "text/plain": [
              "<Figure size 1440x360 with 1 Axes>"
            ]
          },
          "metadata": {
            "tags": []
          }
        }
      ]
    },
    {
      "cell_type": "markdown",
      "metadata": {
        "id": "u3wqCTSFizhg",
        "colab_type": "text"
      },
      "source": [
        "#clearly there are zero deaths from patients reporting \"chills\" aswell and hence there is no point in adding this variable to our predictive model hence i would be droping it after confirming my results from Logistic regression."
      ]
    },
    {
      "cell_type": "code",
      "metadata": {
        "id": "-C6KDRebimyU",
        "colab_type": "code",
        "colab": {
          "base_uri": "https://localhost:8080/",
          "height": 343
        },
        "outputId": "7dc3dd6b-823a-4064-cae5-84897881d813"
      },
      "source": [
        "graph1(\"Shortness of Breath\")"
      ],
      "execution_count": 22,
      "outputs": [
        {
          "output_type": "display_data",
          "data": {
            "image/png": "[encoded data removed]",
            "text/plain": [
              "<Figure size 1440x360 with 1 Axes>"
            ]
          },
          "metadata": {
            "tags": []
          }
        }
      ]
    },
    {
      "cell_type": "markdown",
      "metadata": {
        "id": "Jq4shPpWjPA9",
        "colab_type": "text"
      },
      "source": [
        "# we can see that 1% of sample population who reported shortness of breath have died"
      ]
    },
    {
      "cell_type": "code",
      "metadata": {
        "id": "cpCFwKfOim2Q",
        "colab_type": "code",
        "colab": {
          "base_uri": "https://localhost:8080/",
          "height": 391
        },
        "outputId": "0b44203d-4f12-486f-d448-3d27676c3ff0"
      },
      "source": [
        "graph1(\"Other Resperatory Symptoms\")"
      ],
      "execution_count": 23,
      "outputs": [
        {
          "output_type": "stream",
          "text": [
            "posx and posy should be finite values\n",
            "posx and posy should be finite values\n",
            "posx and posy should be finite values\n"
          ],
          "name": "stderr"
        },
        {
          "output_type": "display_data",
          "data": {
            "image/png": "[encoded data removed]",
            "text/plain": [
              "<Figure size 1440x360 with 1 Axes>"
            ]
          },
          "metadata": {
            "tags": []
          }
        }
      ]
    },
    {
      "cell_type": "markdown",
      "metadata": {
        "id": "WlllfRhhjsEQ",
        "colab_type": "text"
      },
      "source": [
        "# there are no deaths in the patients who reported other reperatory symptoms and hence this might be a an insignificant predictor"
      ]
    },
    {
      "cell_type": "code",
      "metadata": {
        "id": "qEYUNsBmim5P",
        "colab_type": "code",
        "colab": {
          "base_uri": "https://localhost:8080/",
          "height": 766
        },
        "outputId": "4b81b1f4-0095-4759-f77c-c4709f0baf47"
      },
      "source": [
        "graph1(\"Malaise\")  \n",
        "graph1('Rhinorrhea')"
      ],
      "execution_count": 24,
      "outputs": [
        {
          "output_type": "stream",
          "text": [
            "posx and posy should be finite values\n",
            "posx and posy should be finite values\n",
            "posx and posy should be finite values\n",
            "posx and posy should be finite values\n"
          ],
          "name": "stderr"
        },
        {
          "output_type": "display_data",
          "data": {
            "image/png": "[encoded data removed]",
            "text/plain": [
              "<Figure size 1440x360 with 1 Axes>"
            ]
          },
          "metadata": {
            "tags": []
          }
        },
        {
          "output_type": "stream",
          "text": [
            "posx and posy should be finite values\n",
            "posx and posy should be finite values\n"
          ],
          "name": "stderr"
        },
        {
          "output_type": "display_data",
          "data": {
            "image/png": "[encoded data removed]",
            "text/plain": [
              "<Figure size 1440x360 with 1 Axes>"
            ]
          },
          "metadata": {
            "tags": []
          }
        }
      ]
    },
    {
      "cell_type": "markdown",
      "metadata": {
        "id": "faKY0Cxnk4cC",
        "colab_type": "text"
      },
      "source": [
        "# even malaise and Rhinorrhea looks like insignificantpredictors as they have zero deaths."
      ]
    },
    {
      "cell_type": "code",
      "metadata": {
        "id": "zYAFXYMTinCf",
        "colab_type": "code",
        "colab": {
          "base_uri": "https://localhost:8080/",
          "height": 119
        },
        "outputId": "ddff9223-a5c8-4fd7-8644-03ed738ace28"
      },
      "source": [
        "df.columns"
      ],
      "execution_count": 25,
      "outputs": [
        {
          "output_type": "execute_result",
          "data": {
            "text/plain": [
              "Index(['Age', 'Country', 'Gender', 'Diarrhea', 'Sputum', 'Chills',\n",
              "       'Shortness of Breath', 'Other Resperatory Symptoms', 'Malaise',\n",
              "       'Rhinorrhea', 'Headache', 'Pneumonia', 'mild symptoms', 'chest pain',\n",
              "       'sore throat', 'cough', 'fever', 'sneezing', 'Pneumonitis',\n",
              "       'LivesInWuhan', 'TravelHistoryLocation', 'ChronicDiseaseQ', 'DeathQ'],\n",
              "      dtype='object')"
            ]
          },
          "metadata": {
            "tags": []
          },
          "execution_count": 25
        }
      ]
    },
    {
      "cell_type": "code",
      "metadata": {
        "id": "x4I5GRfEinIN",
        "colab_type": "code",
        "colab": {
          "base_uri": "https://localhost:8080/",
          "height": 1000
        },
        "outputId": "ed248beb-52b0-4f35-ef08-c716b003fccf"
      },
      "source": [
        "graph1('Headache')\n",
        "graph1('Pneumonia')\n",
        "graph1('mild symptoms')\n",
        "graph1('chest pain')\n",
        "graph1('sore throat')\n"
      ],
      "execution_count": 26,
      "outputs": [
        {
          "output_type": "stream",
          "text": [
            "posx and posy should be finite values\n"
          ],
          "name": "stderr"
        },
        {
          "output_type": "display_data",
          "data": {
            "image/png": "[encoded data removed]",
            "text/plain": [
              "<Figure size 1440x360 with 1 Axes>"
            ]
          },
          "metadata": {
            "tags": []
          }
        },
        {
          "output_type": "display_data",
          "data": {
            "image/png": "[encoded data removed]",
            "text/plain": [
              "<Figure size 1440x360 with 1 Axes>"
            ]
          },
          "metadata": {
            "tags": []
          }
        },
        {
          "output_type": "stream",
          "text": [
            "posx and posy should be finite values\n",
            "posx and posy should be finite values\n"
          ],
          "name": "stderr"
        },
        {
          "output_type": "display_data",
          "data": {
            "image/png": "[encoded data removed]",
            "text/plain": [
              "<Figure size 1440x360 with 1 Axes>"
            ]
          },
          "metadata": {
            "tags": []
          }
        },
        {
          "output_type": "display_data",
          "data": {
            "image/png": "[encoded data removed]",
            "text/plain": [
              "<Figure size 1440x360 with 1 Axes>"
            ]
          },
          "metadata": {
            "tags": []
          }
        },
        {
          "output_type": "display_data",
          "data": {
            "image/png": "[encoded data removed]",
            "text/plain": [
              "<Figure size 1440x360 with 1 Axes>"
            ]
          },
          "metadata": {
            "tags": []
          }
        }
      ]
    },
    {
      "cell_type": "markdown",
      "metadata": {
        "id": "X2B9BqJKliPN",
        "colab_type": "text"
      },
      "source": [
        "#from the above reults only phemonia and chest pain looks like significant predictors."
      ]
    },
    {
      "cell_type": "code",
      "metadata": {
        "id": "GlujdLnCinL0",
        "colab_type": "code",
        "colab": {
          "base_uri": "https://localhost:8080/",
          "height": 1000
        },
        "outputId": "caac11eb-cde6-4bf8-c3f9-f2764eeb24c7"
      },
      "source": [
        "graph1('cough')\n",
        "graph1('fever')\n",
        "graph1('sneezing')\n",
        "graph1('Pneumonitis')\n",
        "graph1('LivesInWuhan')\n"
      ],
      "execution_count": 27,
      "outputs": [
        {
          "output_type": "stream",
          "text": [
            "posx and posy should be finite values\n",
            "posx and posy should be finite values\n"
          ],
          "name": "stderr"
        },
        {
          "output_type": "display_data",
          "data": {
            "image/png": "[encoded data removed]",
            "text/plain": [
              "<Figure size 1440x360 with 1 Axes>"
            ]
          },
          "metadata": {
            "tags": []
          }
        },
        {
          "output_type": "display_data",
          "data": {
            "image/png": "[encoded data removed]",
            "text/plain": [
              "<Figure size 1440x360 with 1 Axes>"
            ]
          },
          "metadata": {
            "tags": []
          }
        },
        {
          "output_type": "stream",
          "text": [
            "posx and posy should be finite values\n",
            "posx and posy should be finite values\n"
          ],
          "name": "stderr"
        },
        {
          "output_type": "display_data",
          "data": {
            "image/png": "[encoded data removed]",
            "text/plain": [
              "<Figure size 1440x360 with 1 Axes>"
            ]
          },
          "metadata": {
            "tags": []
          }
        },
        {
          "output_type": "stream",
          "text": [
            "posx and posy should be finite values\n",
            "posx and posy should be finite values\n"
          ],
          "name": "stderr"
        },
        {
          "output_type": "display_data",
          "data": {
            "image/png": "[encoded data removed]",
            "text/plain": [
              "<Figure size 1440x360 with 1 Axes>"
            ]
          },
          "metadata": {
            "tags": []
          }
        },
        {
          "output_type": "display_data",
          "data": {
            "image/png": "[encoded data removed]",
            "text/plain": [
              "<Figure size 1440x360 with 1 Axes>"
            ]
          },
          "metadata": {
            "tags": []
          }
        }
      ]
    },
    {
      "cell_type": "markdown",
      "metadata": {
        "id": "FasfxOpR6seb",
        "colab_type": "text"
      },
      "source": [
        "# from above grah you can see that sneezing and pneumonitis are not significant"
      ]
    },
    {
      "cell_type": "code",
      "metadata": {
        "id": "95sx7l_rgUhx",
        "colab_type": "code",
        "colab": {
          "base_uri": "https://localhost:8080/",
          "height": 607
        },
        "outputId": "9fcf9659-265d-4136-a652-f51e4cea7434"
      },
      "source": [
        "fig = plt.figure(figsize=(14,14))\n",
        "\n",
        "#  subplot #1\n",
        "fig.add_subplot(331)\n",
        "plt.title('Pneumonitis', fontsize=14)\n",
        "df['Pneumonitis'].value_counts(normalize=True).plot.bar(figsize=(20,10), title= 'Pneumonitis')\n",
        "\n",
        "#  subplot #2\n",
        "fig.add_subplot(3,3,2)\n",
        "df['sneezing'].value_counts(normalize=True).plot.bar(title= 'sneezing ')\n",
        "\n",
        "#  subplot #3\n",
        "fig.add_subplot(333)\n",
        "df['sore throat'].value_counts(normalize=True).plot.bar(title= 'sore throat') \n",
        "\n",
        "fig.add_subplot(334)\n",
        "df['fever'].value_counts(normalize=True).plot.bar(title= 'fever') \n",
        "\n",
        "fig.add_subplot(335)\n",
        "df['cough'].value_counts(normalize=True).plot.bar(title= 'cough') \n",
        "\n",
        "\n",
        "fig.add_subplot(336)\n",
        "df['chest pain'].value_counts(normalize=True).plot.bar(title= 'chest pain') \n",
        "\n",
        "fig.add_subplot(337)\n",
        "df['mild symptoms'].value_counts(normalize=True).plot.bar(title= 'mild symptoms') \n",
        "\n",
        "\n",
        "fig.add_subplot(338)\n",
        "df['Headache'].value_counts(normalize=True).plot.bar(title= 'Headache') \n",
        "\n",
        "fig.add_subplot(339)\n",
        "df['Shortness of Breath'].value_counts(normalize=True).plot.bar(title= 'Shortness of Breath') \n",
        "\n",
        "\n",
        "\n",
        "plt.show()"
      ],
      "execution_count": 28,
      "outputs": [
        {
          "output_type": "display_data",
          "data": {
            "image/png": "[encoded data removed]",
            "text/plain": [
              "<Figure size 1440x720 with 9 Axes>"
            ]
          },
          "metadata": {
            "tags": []
          }
        }
      ]
    },
    {
      "cell_type": "markdown",
      "metadata": {
        "id": "-bvdtEqO7-oi",
        "colab_type": "text"
      },
      "source": [
        "#Feature engineering "
      ]
    },
    {
      "cell_type": "markdown",
      "metadata": {
        "id": "Viby3tzH8Etu",
        "colab_type": "text"
      },
      "source": [
        "There might be a posiibility that each individual symptom may not cause the death in covid patients but a combination of symptoms may be fetal and hence i will create a new column which is the sum of all the symptons variables."
      ]
    },
    {
      "cell_type": "code",
      "metadata": {
        "id": "QP3ms1HL-EPz",
        "colab_type": "code",
        "colab": {
          "base_uri": "https://localhost:8080/",
          "height": 119
        },
        "outputId": "a755d6a8-3911-4f73-9ce3-7b2e3f0d5224"
      },
      "source": [
        "df.columns"
      ],
      "execution_count": 29,
      "outputs": [
        {
          "output_type": "execute_result",
          "data": {
            "text/plain": [
              "Index(['Age', 'Country', 'Gender', 'Diarrhea', 'Sputum', 'Chills',\n",
              "       'Shortness of Breath', 'Other Resperatory Symptoms', 'Malaise',\n",
              "       'Rhinorrhea', 'Headache', 'Pneumonia', 'mild symptoms', 'chest pain',\n",
              "       'sore throat', 'cough', 'fever', 'sneezing', 'Pneumonitis',\n",
              "       'LivesInWuhan', 'TravelHistoryLocation', 'ChronicDiseaseQ', 'DeathQ'],\n",
              "      dtype='object')"
            ]
          },
          "metadata": {
            "tags": []
          },
          "execution_count": 29
        }
      ]
    },
    {
      "cell_type": "code",
      "metadata": {
        "id": "QQDViimSinPB",
        "colab_type": "code",
        "colab": {}
      },
      "source": [
        "df[\"combined_symptoms\"] = df['Diarrhea'] + df ['Sputum'] + df['Chills'] + df['Shortness of Breath'] + df ['Other Resperatory Symptoms'] + df['Malaise'] + df['Rhinorrhea'] + df['Headache'] + df['Pneumonia'] + df['mild symptoms'] + df ['chest pain'] + df[ 'sore throat'] + df['cough'] + df['fever'] +df['sneezing'] + df['Pneumonitis'] + df['ChronicDiseaseQ']"
      ],
      "execution_count": 0,
      "outputs": []
    },
    {
      "cell_type": "code",
      "metadata": {
        "id": "aFMpnI9ninRV",
        "colab_type": "code",
        "colab": {
          "base_uri": "https://localhost:8080/",
          "height": 343
        },
        "outputId": "81c6eb7c-38eb-459b-cdf1-e0110dd2bad2"
      },
      "source": [
        "df.head()"
      ],
      "execution_count": 31,
      "outputs": [
        {
          "output_type": "execute_result",
          "data": {
            "text/html": [
              "<div>\n",
              "<style scoped>\n",
              "    .dataframe tbody tr th:only-of-type {\n",
              "        vertical-align: middle;\n",
              "    }\n",
              "\n",
              "    .dataframe tbody tr th {\n",
              "        vertical-align: top;\n",
              "    }\n",
              "\n",
              "    .dataframe thead th {\n",
              "        text-align: right;\n",
              "    }\n",
              "</style>\n",
              "<table border=\"1\" class=\"dataframe\">\n",
              "  <thead>\n",
              "    <tr style=\"text-align: right;\">\n",
              "      <th></th>\n",
              "      <th>Age</th>\n",
              "      <th>Country</th>\n",
              "      <th>Gender</th>\n",
              "      <th>Diarrhea</th>\n",
              "      <th>Sputum</th>\n",
              "      <th>Chills</th>\n",
              "      <th>Shortness of Breath</th>\n",
              "      <th>Other Resperatory Symptoms</th>\n",
              "      <th>Malaise</th>\n",
              "      <th>Rhinorrhea</th>\n",
              "      <th>Headache</th>\n",
              "      <th>Pneumonia</th>\n",
              "      <th>mild symptoms</th>\n",
              "      <th>chest pain</th>\n",
              "      <th>sore throat</th>\n",
              "      <th>cough</th>\n",
              "      <th>fever</th>\n",
              "      <th>sneezing</th>\n",
              "      <th>Pneumonitis</th>\n",
              "      <th>LivesInWuhan</th>\n",
              "      <th>TravelHistoryLocation</th>\n",
              "      <th>ChronicDiseaseQ</th>\n",
              "      <th>DeathQ</th>\n",
              "      <th>combined_symptoms</th>\n",
              "    </tr>\n",
              "  </thead>\n",
              "  <tbody>\n",
              "    <tr>\n",
              "      <th>0</th>\n",
              "      <td>group5(40-49)</td>\n",
              "      <td>China</td>\n",
              "      <td>Female</td>\n",
              "      <td>0</td>\n",
              "      <td>1</td>\n",
              "      <td>0</td>\n",
              "      <td>0</td>\n",
              "      <td>0</td>\n",
              "      <td>0</td>\n",
              "      <td>0</td>\n",
              "      <td>0</td>\n",
              "      <td>0</td>\n",
              "      <td>0</td>\n",
              "      <td>0</td>\n",
              "      <td>0</td>\n",
              "      <td>1</td>\n",
              "      <td>1</td>\n",
              "      <td>0</td>\n",
              "      <td>0</td>\n",
              "      <td>1</td>\n",
              "      <td>unknown</td>\n",
              "      <td>1</td>\n",
              "      <td>1</td>\n",
              "      <td>4</td>\n",
              "    </tr>\n",
              "    <tr>\n",
              "      <th>1</th>\n",
              "      <td>group6(50-59)</td>\n",
              "      <td>China</td>\n",
              "      <td>Male</td>\n",
              "      <td>0</td>\n",
              "      <td>1</td>\n",
              "      <td>0</td>\n",
              "      <td>0</td>\n",
              "      <td>0</td>\n",
              "      <td>0</td>\n",
              "      <td>0</td>\n",
              "      <td>0</td>\n",
              "      <td>0</td>\n",
              "      <td>0</td>\n",
              "      <td>0</td>\n",
              "      <td>0</td>\n",
              "      <td>1</td>\n",
              "      <td>1</td>\n",
              "      <td>0</td>\n",
              "      <td>0</td>\n",
              "      <td>1</td>\n",
              "      <td>unknown</td>\n",
              "      <td>0</td>\n",
              "      <td>1</td>\n",
              "      <td>3</td>\n",
              "    </tr>\n",
              "    <tr>\n",
              "      <th>2</th>\n",
              "      <td>group7(60-69)</td>\n",
              "      <td>China</td>\n",
              "      <td>Male</td>\n",
              "      <td>0</td>\n",
              "      <td>0</td>\n",
              "      <td>0</td>\n",
              "      <td>0</td>\n",
              "      <td>0</td>\n",
              "      <td>0</td>\n",
              "      <td>0</td>\n",
              "      <td>0</td>\n",
              "      <td>0</td>\n",
              "      <td>0</td>\n",
              "      <td>0</td>\n",
              "      <td>0</td>\n",
              "      <td>1</td>\n",
              "      <td>0</td>\n",
              "      <td>0</td>\n",
              "      <td>0</td>\n",
              "      <td>1</td>\n",
              "      <td>unknown</td>\n",
              "      <td>0</td>\n",
              "      <td>1</td>\n",
              "      <td>1</td>\n",
              "    </tr>\n",
              "    <tr>\n",
              "      <th>3</th>\n",
              "      <td>group5(40-49)</td>\n",
              "      <td>China</td>\n",
              "      <td>Female</td>\n",
              "      <td>0</td>\n",
              "      <td>0</td>\n",
              "      <td>0</td>\n",
              "      <td>0</td>\n",
              "      <td>0</td>\n",
              "      <td>0</td>\n",
              "      <td>0</td>\n",
              "      <td>0</td>\n",
              "      <td>0</td>\n",
              "      <td>0</td>\n",
              "      <td>1</td>\n",
              "      <td>0</td>\n",
              "      <td>1</td>\n",
              "      <td>1</td>\n",
              "      <td>0</td>\n",
              "      <td>0</td>\n",
              "      <td>1</td>\n",
              "      <td>unknown</td>\n",
              "      <td>1</td>\n",
              "      <td>0</td>\n",
              "      <td>4</td>\n",
              "    </tr>\n",
              "    <tr>\n",
              "      <th>4</th>\n",
              "      <td>group7(60-69)</td>\n",
              "      <td>China</td>\n",
              "      <td>Male</td>\n",
              "      <td>0</td>\n",
              "      <td>0</td>\n",
              "      <td>0</td>\n",
              "      <td>1</td>\n",
              "      <td>0</td>\n",
              "      <td>0</td>\n",
              "      <td>0</td>\n",
              "      <td>0</td>\n",
              "      <td>0</td>\n",
              "      <td>0</td>\n",
              "      <td>1</td>\n",
              "      <td>0</td>\n",
              "      <td>0</td>\n",
              "      <td>1</td>\n",
              "      <td>0</td>\n",
              "      <td>0</td>\n",
              "      <td>1</td>\n",
              "      <td>China</td>\n",
              "      <td>0</td>\n",
              "      <td>0</td>\n",
              "      <td>3</td>\n",
              "    </tr>\n",
              "  </tbody>\n",
              "</table>\n",
              "</div>"
            ],
            "text/plain": [
              "             Age Country  Gender  ...  ChronicDiseaseQ  DeathQ  combined_symptoms\n",
              "0  group5(40-49)   China  Female  ...                1       1                  4\n",
              "1  group6(50-59)   China    Male  ...                0       1                  3\n",
              "2  group7(60-69)   China    Male  ...                0       1                  1\n",
              "3  group5(40-49)   China  Female  ...                1       0                  4\n",
              "4  group7(60-69)   China    Male  ...                0       0                  3\n",
              "\n",
              "[5 rows x 24 columns]"
            ]
          },
          "metadata": {
            "tags": []
          },
          "execution_count": 31
        }
      ]
    },
    {
      "cell_type": "markdown",
      "metadata": {
        "id": "x4XW3aA4iZZH",
        "colab_type": "text"
      },
      "source": [
        ""
      ]
    },
    {
      "cell_type": "code",
      "metadata": {
        "id": "4gETxRMMfL_4",
        "colab_type": "code",
        "colab": {
          "base_uri": "https://localhost:8080/",
          "height": 544
        },
        "outputId": "ddba0b03-7c82-4a99-9c81-a962e759db03"
      },
      "source": [
        "df.info()"
      ],
      "execution_count": 32,
      "outputs": [
        {
          "output_type": "stream",
          "text": [
            "<class 'pandas.core.frame.DataFrame'>\n",
            "Int64Index: 739 entries, 0 to 761\n",
            "Data columns (total 24 columns):\n",
            " #   Column                      Non-Null Count  Dtype \n",
            "---  ------                      --------------  ----- \n",
            " 0   Age                         739 non-null    object\n",
            " 1   Country                     739 non-null    object\n",
            " 2   Gender                      739 non-null    object\n",
            " 3   Diarrhea                    739 non-null    int64 \n",
            " 4   Sputum                      739 non-null    int64 \n",
            " 5   Chills                      739 non-null    int64 \n",
            " 6   Shortness of Breath         739 non-null    int64 \n",
            " 7   Other Resperatory Symptoms  739 non-null    int64 \n",
            " 8   Malaise                     739 non-null    int64 \n",
            " 9   Rhinorrhea                  739 non-null    int64 \n",
            " 10  Headache                    739 non-null    int64 \n",
            " 11  Pneumonia                   739 non-null    int64 \n",
            " 12  mild symptoms               739 non-null    int64 \n",
            " 13  chest pain                  739 non-null    int64 \n",
            " 14  sore throat                 739 non-null    int64 \n",
            " 15  cough                       739 non-null    int64 \n",
            " 16  fever                       739 non-null    int64 \n",
            " 17  sneezing                    739 non-null    int64 \n",
            " 18  Pneumonitis                 739 non-null    int64 \n",
            " 19  LivesInWuhan                739 non-null    int64 \n",
            " 20  TravelHistoryLocation       739 non-null    object\n",
            " 21  ChronicDiseaseQ             739 non-null    int64 \n",
            " 22  DeathQ                      739 non-null    int64 \n",
            " 23  combined_symptoms           739 non-null    int64 \n",
            "dtypes: int64(20), object(4)\n",
            "memory usage: 164.3+ KB\n"
          ],
          "name": "stdout"
        }
      ]
    },
    {
      "cell_type": "code",
      "metadata": {
        "id": "wFWKzPK3nVHM",
        "colab_type": "code",
        "colab": {
          "base_uri": "https://localhost:8080/",
          "height": 68
        },
        "outputId": "2d1de924-ca0d-43dd-e0a7-cadce011fca7"
      },
      "source": [
        "print(\"unique values of SeniorCitizen  variable are: \",df.Age.unique())"
      ],
      "execution_count": 33,
      "outputs": [
        {
          "output_type": "stream",
          "text": [
            "unique values of SeniorCitizen  variable are:  ['group5(40-49)' 'group6(50-59)' 'group7(60-69)' 'group8(70-79)'\n",
            " 'group4(30-39)' 'group9(80-89' 'group3(20-30)' 'group1(1-10)'\n",
            " 'droup2(11-19)' 'group10(90&above)']\n"
          ],
          "name": "stdout"
        }
      ]
    },
    {
      "cell_type": "code",
      "metadata": {
        "id": "8l4Dtg6evFmD",
        "colab_type": "code",
        "colab": {
          "base_uri": "https://localhost:8080/",
          "height": 343
        },
        "outputId": "70ad7940-104e-4b3e-b472-9db320b3a204"
      },
      "source": [
        "df.head()"
      ],
      "execution_count": 34,
      "outputs": [
        {
          "output_type": "execute_result",
          "data": {
            "text/html": [
              "<div>\n",
              "<style scoped>\n",
              "    .dataframe tbody tr th:only-of-type {\n",
              "        vertical-align: middle;\n",
              "    }\n",
              "\n",
              "    .dataframe tbody tr th {\n",
              "        vertical-align: top;\n",
              "    }\n",
              "\n",
              "    .dataframe thead th {\n",
              "        text-align: right;\n",
              "    }\n",
              "</style>\n",
              "<table border=\"1\" class=\"dataframe\">\n",
              "  <thead>\n",
              "    <tr style=\"text-align: right;\">\n",
              "      <th></th>\n",
              "      <th>Age</th>\n",
              "      <th>Country</th>\n",
              "      <th>Gender</th>\n",
              "      <th>Diarrhea</th>\n",
              "      <th>Sputum</th>\n",
              "      <th>Chills</th>\n",
              "      <th>Shortness of Breath</th>\n",
              "      <th>Other Resperatory Symptoms</th>\n",
              "      <th>Malaise</th>\n",
              "      <th>Rhinorrhea</th>\n",
              "      <th>Headache</th>\n",
              "      <th>Pneumonia</th>\n",
              "      <th>mild symptoms</th>\n",
              "      <th>chest pain</th>\n",
              "      <th>sore throat</th>\n",
              "      <th>cough</th>\n",
              "      <th>fever</th>\n",
              "      <th>sneezing</th>\n",
              "      <th>Pneumonitis</th>\n",
              "      <th>LivesInWuhan</th>\n",
              "      <th>TravelHistoryLocation</th>\n",
              "      <th>ChronicDiseaseQ</th>\n",
              "      <th>DeathQ</th>\n",
              "      <th>combined_symptoms</th>\n",
              "    </tr>\n",
              "  </thead>\n",
              "  <tbody>\n",
              "    <tr>\n",
              "      <th>0</th>\n",
              "      <td>group5(40-49)</td>\n",
              "      <td>China</td>\n",
              "      <td>Female</td>\n",
              "      <td>0</td>\n",
              "      <td>1</td>\n",
              "      <td>0</td>\n",
              "      <td>0</td>\n",
              "      <td>0</td>\n",
              "      <td>0</td>\n",
              "      <td>0</td>\n",
              "      <td>0</td>\n",
              "      <td>0</td>\n",
              "      <td>0</td>\n",
              "      <td>0</td>\n",
              "      <td>0</td>\n",
              "      <td>1</td>\n",
              "      <td>1</td>\n",
              "      <td>0</td>\n",
              "      <td>0</td>\n",
              "      <td>1</td>\n",
              "      <td>unknown</td>\n",
              "      <td>1</td>\n",
              "      <td>1</td>\n",
              "      <td>4</td>\n",
              "    </tr>\n",
              "    <tr>\n",
              "      <th>1</th>\n",
              "      <td>group6(50-59)</td>\n",
              "      <td>China</td>\n",
              "      <td>Male</td>\n",
              "      <td>0</td>\n",
              "      <td>1</td>\n",
              "      <td>0</td>\n",
              "      <td>0</td>\n",
              "      <td>0</td>\n",
              "      <td>0</td>\n",
              "      <td>0</td>\n",
              "      <td>0</td>\n",
              "      <td>0</td>\n",
              "      <td>0</td>\n",
              "      <td>0</td>\n",
              "      <td>0</td>\n",
              "      <td>1</td>\n",
              "      <td>1</td>\n",
              "      <td>0</td>\n",
              "      <td>0</td>\n",
              "      <td>1</td>\n",
              "      <td>unknown</td>\n",
              "      <td>0</td>\n",
              "      <td>1</td>\n",
              "      <td>3</td>\n",
              "    </tr>\n",
              "    <tr>\n",
              "      <th>2</th>\n",
              "      <td>group7(60-69)</td>\n",
              "      <td>China</td>\n",
              "      <td>Male</td>\n",
              "      <td>0</td>\n",
              "      <td>0</td>\n",
              "      <td>0</td>\n",
              "      <td>0</td>\n",
              "      <td>0</td>\n",
              "      <td>0</td>\n",
              "      <td>0</td>\n",
              "      <td>0</td>\n",
              "      <td>0</td>\n",
              "      <td>0</td>\n",
              "      <td>0</td>\n",
              "      <td>0</td>\n",
              "      <td>1</td>\n",
              "      <td>0</td>\n",
              "      <td>0</td>\n",
              "      <td>0</td>\n",
              "      <td>1</td>\n",
              "      <td>unknown</td>\n",
              "      <td>0</td>\n",
              "      <td>1</td>\n",
              "      <td>1</td>\n",
              "    </tr>\n",
              "    <tr>\n",
              "      <th>3</th>\n",
              "      <td>group5(40-49)</td>\n",
              "      <td>China</td>\n",
              "      <td>Female</td>\n",
              "      <td>0</td>\n",
              "      <td>0</td>\n",
              "      <td>0</td>\n",
              "      <td>0</td>\n",
              "      <td>0</td>\n",
              "      <td>0</td>\n",
              "      <td>0</td>\n",
              "      <td>0</td>\n",
              "      <td>0</td>\n",
              "      <td>0</td>\n",
              "      <td>1</td>\n",
              "      <td>0</td>\n",
              "      <td>1</td>\n",
              "      <td>1</td>\n",
              "      <td>0</td>\n",
              "      <td>0</td>\n",
              "      <td>1</td>\n",
              "      <td>unknown</td>\n",
              "      <td>1</td>\n",
              "      <td>0</td>\n",
              "      <td>4</td>\n",
              "    </tr>\n",
              "    <tr>\n",
              "      <th>4</th>\n",
              "      <td>group7(60-69)</td>\n",
              "      <td>China</td>\n",
              "      <td>Male</td>\n",
              "      <td>0</td>\n",
              "      <td>0</td>\n",
              "      <td>0</td>\n",
              "      <td>1</td>\n",
              "      <td>0</td>\n",
              "      <td>0</td>\n",
              "      <td>0</td>\n",
              "      <td>0</td>\n",
              "      <td>0</td>\n",
              "      <td>0</td>\n",
              "      <td>1</td>\n",
              "      <td>0</td>\n",
              "      <td>0</td>\n",
              "      <td>1</td>\n",
              "      <td>0</td>\n",
              "      <td>0</td>\n",
              "      <td>1</td>\n",
              "      <td>China</td>\n",
              "      <td>0</td>\n",
              "      <td>0</td>\n",
              "      <td>3</td>\n",
              "    </tr>\n",
              "  </tbody>\n",
              "</table>\n",
              "</div>"
            ],
            "text/plain": [
              "             Age Country  Gender  ...  ChronicDiseaseQ  DeathQ  combined_symptoms\n",
              "0  group5(40-49)   China  Female  ...                1       1                  4\n",
              "1  group6(50-59)   China    Male  ...                0       1                  3\n",
              "2  group7(60-69)   China    Male  ...                0       1                  1\n",
              "3  group5(40-49)   China  Female  ...                1       0                  4\n",
              "4  group7(60-69)   China    Male  ...                0       0                  3\n",
              "\n",
              "[5 rows x 24 columns]"
            ]
          },
          "metadata": {
            "tags": []
          },
          "execution_count": 34
        }
      ]
    },
    {
      "cell_type": "code",
      "metadata": {
        "id": "eY1i6IUCnutq",
        "colab_type": "code",
        "colab": {}
      },
      "source": [
        "# Import label encoder \n",
        "from sklearn import preprocessing \n",
        "  \n",
        "# label_encoder object knows how to understand word labels. \n",
        "label_encoder = preprocessing.LabelEncoder() \n",
        "  \n",
        "# Encode labels  \n",
        "df['Age']= label_encoder.fit_transform(df['Age']) \n",
        " \n"
      ],
      "execution_count": 0,
      "outputs": []
    },
    {
      "cell_type": "code",
      "metadata": {
        "id": "zfP75a4Ot9u_",
        "colab_type": "code",
        "colab": {}
      },
      "source": [
        "df['Country']= label_encoder.fit_transform(df['Country']) \n"
      ],
      "execution_count": 0,
      "outputs": []
    },
    {
      "cell_type": "code",
      "metadata": {
        "id": "WSlx899Gvh8a",
        "colab_type": "code",
        "colab": {}
      },
      "source": [
        "df['Gender']= label_encoder.fit_transform(df['Gender']) \n"
      ],
      "execution_count": 0,
      "outputs": []
    },
    {
      "cell_type": "code",
      "metadata": {
        "id": "1YSOBHMOvlNT",
        "colab_type": "code",
        "colab": {}
      },
      "source": [
        "df['TravelHistoryLocation']= label_encoder.fit_transform(df['TravelHistoryLocation']) \n"
      ],
      "execution_count": 0,
      "outputs": []
    },
    {
      "cell_type": "code",
      "metadata": {
        "id": "X64SrC3jyDxU",
        "colab_type": "code",
        "colab": {
          "base_uri": "https://localhost:8080/",
          "height": 544
        },
        "outputId": "bac5b396-4059-4ee7-c212-090d26c7129a"
      },
      "source": [
        "df.info()"
      ],
      "execution_count": 39,
      "outputs": [
        {
          "output_type": "stream",
          "text": [
            "<class 'pandas.core.frame.DataFrame'>\n",
            "Int64Index: 739 entries, 0 to 761\n",
            "Data columns (total 24 columns):\n",
            " #   Column                      Non-Null Count  Dtype\n",
            "---  ------                      --------------  -----\n",
            " 0   Age                         739 non-null    int64\n",
            " 1   Country                     739 non-null    int64\n",
            " 2   Gender                      739 non-null    int64\n",
            " 3   Diarrhea                    739 non-null    int64\n",
            " 4   Sputum                      739 non-null    int64\n",
            " 5   Chills                      739 non-null    int64\n",
            " 6   Shortness of Breath         739 non-null    int64\n",
            " 7   Other Resperatory Symptoms  739 non-null    int64\n",
            " 8   Malaise                     739 non-null    int64\n",
            " 9   Rhinorrhea                  739 non-null    int64\n",
            " 10  Headache                    739 non-null    int64\n",
            " 11  Pneumonia                   739 non-null    int64\n",
            " 12  mild symptoms               739 non-null    int64\n",
            " 13  chest pain                  739 non-null    int64\n",
            " 14  sore throat                 739 non-null    int64\n",
            " 15  cough                       739 non-null    int64\n",
            " 16  fever                       739 non-null    int64\n",
            " 17  sneezing                    739 non-null    int64\n",
            " 18  Pneumonitis                 739 non-null    int64\n",
            " 19  LivesInWuhan                739 non-null    int64\n",
            " 20  TravelHistoryLocation       739 non-null    int64\n",
            " 21  ChronicDiseaseQ             739 non-null    int64\n",
            " 22  DeathQ                      739 non-null    int64\n",
            " 23  combined_symptoms           739 non-null    int64\n",
            "dtypes: int64(24)\n",
            "memory usage: 164.3 KB\n"
          ],
          "name": "stdout"
        }
      ]
    },
    {
      "cell_type": "code",
      "metadata": {
        "id": "cb5rTmCODADc",
        "colab_type": "code",
        "colab": {
          "base_uri": "https://localhost:8080/",
          "height": 136
        },
        "outputId": "0f610c2c-deb6-4222-c621-c5d9df493c46"
      },
      "source": [
        "df.columns"
      ],
      "execution_count": 40,
      "outputs": [
        {
          "output_type": "execute_result",
          "data": {
            "text/plain": [
              "Index(['Age', 'Country', 'Gender', 'Diarrhea', 'Sputum', 'Chills',\n",
              "       'Shortness of Breath', 'Other Resperatory Symptoms', 'Malaise',\n",
              "       'Rhinorrhea', 'Headache', 'Pneumonia', 'mild symptoms', 'chest pain',\n",
              "       'sore throat', 'cough', 'fever', 'sneezing', 'Pneumonitis',\n",
              "       'LivesInWuhan', 'TravelHistoryLocation', 'ChronicDiseaseQ', 'DeathQ',\n",
              "       'combined_symptoms'],\n",
              "      dtype='object')"
            ]
          },
          "metadata": {
            "tags": []
          },
          "execution_count": 40
        }
      ]
    },
    {
      "cell_type": "code",
      "metadata": {
        "id": "9BxSxj94C-LJ",
        "colab_type": "code",
        "colab": {}
      },
      "source": [
        "# # Let's use the statsmodel library \n",
        "# import statsmodels.api as sm\n",
        "\n",
        "# # Define independent variables\n",
        "# iv = ['Age', 'Country', 'Gender', 'Diarrhea', 'Sputum', 'Chills',\n",
        "#        'Shortness of Breath', 'Other Resperatory Symptoms', 'Malaise',\n",
        "#        'Rhinorrhea', 'Headache', 'Pneumonia', 'mild symptoms', 'chest pain',\n",
        "#        'sore throat', 'cough', 'fever', 'sneezing', 'Pneumonitis',\n",
        "#        'LivesInWuhan', 'TravelHistoryLocation', 'ChronicDiseaseQ']\n",
        "\n",
        "# # Fit the logistic regression function\n",
        "# logReg = sm.Logit(df.DeathQ,df[iv])\n",
        "# answer = logReg.fit()"
      ],
      "execution_count": 0,
      "outputs": []
    },
    {
      "cell_type": "code",
      "metadata": {
        "id": "HaG6m_jIDScf",
        "colab_type": "code",
        "colab": {}
      },
      "source": [
        "# # Display the parameter coefficients \n",
        "# np.exp(answer.params)"
      ],
      "execution_count": 0,
      "outputs": []
    },
    {
      "cell_type": "code",
      "metadata": {
        "id": "X5lU40NmQctU",
        "colab_type": "code",
        "colab": {}
      },
      "source": [
        "# print(answer.summary())"
      ],
      "execution_count": 0,
      "outputs": []
    },
    {
      "cell_type": "markdown",
      "metadata": {
        "id": "YffI5E3uIwEy",
        "colab_type": "text"
      },
      "source": [
        "according to over model our Pseudo R-squ.0.3485 and significant features at 95% confidence are country, fever, travel history location and chronic disease are significant. now lets try to built another model with these few features and see our results."
      ]
    },
    {
      "cell_type": "code",
      "metadata": {
        "id": "yyC5E3STMUPN",
        "colab_type": "code",
        "colab": {
          "base_uri": "https://localhost:8080/",
          "height": 136
        },
        "outputId": "a04ca67b-ce95-4dc3-ed0d-50e675df1205"
      },
      "source": [
        "df.columns"
      ],
      "execution_count": 44,
      "outputs": [
        {
          "output_type": "execute_result",
          "data": {
            "text/plain": [
              "Index(['Age', 'Country', 'Gender', 'Diarrhea', 'Sputum', 'Chills',\n",
              "       'Shortness of Breath', 'Other Resperatory Symptoms', 'Malaise',\n",
              "       'Rhinorrhea', 'Headache', 'Pneumonia', 'mild symptoms', 'chest pain',\n",
              "       'sore throat', 'cough', 'fever', 'sneezing', 'Pneumonitis',\n",
              "       'LivesInWuhan', 'TravelHistoryLocation', 'ChronicDiseaseQ', 'DeathQ',\n",
              "       'combined_symptoms'],\n",
              "      dtype='object')"
            ]
          },
          "metadata": {
            "tags": []
          },
          "execution_count": 44
        }
      ]
    },
    {
      "cell_type": "code",
      "metadata": {
        "id": "AWwTzOrXJkN_",
        "colab_type": "code",
        "colab": {
          "base_uri": "https://localhost:8080/",
          "height": 102
        },
        "outputId": "d34efe6f-8955-4831-ca55-a93ed1001dc3"
      },
      "source": [
        "import statsmodels.api as sm\n",
        "\n",
        "# Define independent variables\n",
        "iv_2 = ['Age', 'Country', 'Gender', 'Diarrhea', 'Sputum', 'Chills',\n",
        "       'Shortness of Breath', 'Other Resperatory Symptoms', 'Malaise',\n",
        "       'Rhinorrhea', 'Headache', 'Pneumonia', 'mild symptoms', 'chest pain',\n",
        "       'sore throat', 'cough', 'fever', 'sneezing', 'Pneumonitis',\n",
        "       'LivesInWuhan', 'TravelHistoryLocation', 'ChronicDiseaseQ',\n",
        "       'combined_symptoms']\n",
        "\n",
        "# Fit the logistic regression function\n",
        "logReg_2 = sm.Logit(df.DeathQ,df[iv_2])\n",
        "answer_2 = logReg_2.fit()"
      ],
      "execution_count": 113,
      "outputs": [
        {
          "output_type": "stream",
          "text": [
            "Warning: Maximum number of iterations has been exceeded.\n",
            "         Current function value: 0.154239\n",
            "         Iterations: 35\n"
          ],
          "name": "stdout"
        },
        {
          "output_type": "stream",
          "text": [
            "/usr/local/lib/python3.6/dist-packages/statsmodels/base/model.py:512: ConvergenceWarning: Maximum Likelihood optimization failed to converge. Check mle_retvals\n",
            "  \"Check mle_retvals\", ConvergenceWarning)\n"
          ],
          "name": "stderr"
        }
      ]
    },
    {
      "cell_type": "code",
      "metadata": {
        "id": "TaPRoLfqJ78L",
        "colab_type": "code",
        "colab": {
          "base_uri": "https://localhost:8080/",
          "height": 646
        },
        "outputId": "8ae1830d-c538-484c-af2e-61087c8cd2e5"
      },
      "source": [
        "print(answer_2.summary())"
      ],
      "execution_count": 46,
      "outputs": [
        {
          "output_type": "stream",
          "text": [
            "                           Logit Regression Results                           \n",
            "==============================================================================\n",
            "Dep. Variable:                 DeathQ   No. Observations:                  739\n",
            "Model:                          Logit   Df Residuals:                      719\n",
            "Method:                           MLE   Df Model:                           19\n",
            "Date:                Sat, 09 May 2020   Pseudo R-squ.:                  0.3443\n",
            "Time:                        01:21:27   Log-Likelihood:                -114.72\n",
            "converged:                      False   LL-Null:                       -174.96\n",
            "Covariance Type:            nonrobust   LLR p-value:                 8.997e-17\n",
            "=========================================================================================\n",
            "                            coef    std err          z      P>|z|      [0.025      0.975]\n",
            "-----------------------------------------------------------------------------------------\n",
            "Age                      -0.0961      0.084     -1.141      0.254      -0.261       0.069\n",
            "Sputum                    2.7236      1.264      2.154      0.031       0.246       5.202\n",
            "Diarrhea                  1.6343      1.851      0.883      0.377      -1.994       5.262\n",
            "Chills                    1.2484      1.259      0.991      0.322      -1.220       3.717\n",
            "Malaise                 -22.6428   1.66e+05     -0.000      1.000   -3.25e+05    3.25e+05\n",
            "Rhinorrhea              -16.5253   5434.023     -0.003      0.998   -1.07e+04    1.06e+04\n",
            "Headache                 -0.1063      1.733     -0.061      0.951      -3.503       3.291\n",
            "Gender                    0.0585      0.372      0.157      0.875      -0.671       0.788\n",
            "Pneumonitis             -12.6820    326.328     -0.039      0.969    -652.273     626.909\n",
            "mild symptoms           -18.6580   1.26e+04     -0.001      0.999   -2.46e+04    2.46e+04\n",
            "LivesInWuhan              0.1584      0.220      0.720      0.471      -0.273       0.589\n",
            "Country                  -0.1811      0.033     -5.423      0.000      -0.247      -0.116\n",
            "fever                     0.1833      0.911      0.201      0.841      -1.602       1.969\n",
            "cough                     1.1346      0.912      1.244      0.214      -0.654       2.923\n",
            "TravelHistoryLocation     0.0501      0.017      3.008      0.003       0.017       0.083\n",
            "ChronicDiseaseQ           5.7247      1.026      5.582      0.000       3.715       7.735\n",
            "Shortness of Breath       2.9080      1.156      2.516      0.012       0.642       5.174\n",
            "Pneumonia                 2.0500      1.137      1.803      0.071      -0.178       4.278\n",
            "chest pain                1.1718      1.151      1.018      0.309      -1.085       3.428\n",
            "combined_symptoms        -1.7205      0.827     -2.079      0.038      -3.342      -0.099\n",
            "=========================================================================================\n",
            "\n",
            "Possibly complete quasi-separation: A fraction 0.16 of observations can be\n",
            "perfectly predicted. This might indicate that there is complete\n",
            "quasi-separation. In this case some parameters will not be identified.\n"
          ],
          "name": "stdout"
        }
      ]
    },
    {
      "cell_type": "markdown",
      "metadata": {
        "id": "ofuhpLKieJhD",
        "colab_type": "text"
      },
      "source": [
        ""
      ]
    },
    {
      "cell_type": "code",
      "metadata": {
        "id": "SAbRDNJ-Rran",
        "colab_type": "code",
        "colab": {}
      },
      "source": [
        "df_1 = df"
      ],
      "execution_count": 0,
      "outputs": []
    },
    {
      "cell_type": "code",
      "metadata": {
        "id": "MG7GSIXfRu5e",
        "colab_type": "code",
        "colab": {
          "base_uri": "https://localhost:8080/",
          "height": 258
        },
        "outputId": "5570604b-ef79-42f7-8909-87487b921dbc"
      },
      "source": [
        "df_1.head()"
      ],
      "execution_count": 116,
      "outputs": [
        {
          "output_type": "execute_result",
          "data": {
            "text/html": [
              "<div>\n",
              "<style scoped>\n",
              "    .dataframe tbody tr th:only-of-type {\n",
              "        vertical-align: middle;\n",
              "    }\n",
              "\n",
              "    .dataframe tbody tr th {\n",
              "        vertical-align: top;\n",
              "    }\n",
              "\n",
              "    .dataframe thead th {\n",
              "        text-align: right;\n",
              "    }\n",
              "</style>\n",
              "<table border=\"1\" class=\"dataframe\">\n",
              "  <thead>\n",
              "    <tr style=\"text-align: right;\">\n",
              "      <th></th>\n",
              "      <th>Age</th>\n",
              "      <th>Country</th>\n",
              "      <th>Gender</th>\n",
              "      <th>Diarrhea</th>\n",
              "      <th>Sputum</th>\n",
              "      <th>Chills</th>\n",
              "      <th>Shortness of Breath</th>\n",
              "      <th>Other Resperatory Symptoms</th>\n",
              "      <th>Malaise</th>\n",
              "      <th>Rhinorrhea</th>\n",
              "      <th>Headache</th>\n",
              "      <th>Pneumonia</th>\n",
              "      <th>mild symptoms</th>\n",
              "      <th>chest pain</th>\n",
              "      <th>sore throat</th>\n",
              "      <th>cough</th>\n",
              "      <th>fever</th>\n",
              "      <th>sneezing</th>\n",
              "      <th>Pneumonitis</th>\n",
              "      <th>LivesInWuhan</th>\n",
              "      <th>TravelHistoryLocation</th>\n",
              "      <th>ChronicDiseaseQ</th>\n",
              "      <th>DeathQ</th>\n",
              "      <th>combined_symptoms</th>\n",
              "    </tr>\n",
              "  </thead>\n",
              "  <tbody>\n",
              "    <tr>\n",
              "      <th>0</th>\n",
              "      <td>5</td>\n",
              "      <td>11</td>\n",
              "      <td>0</td>\n",
              "      <td>0</td>\n",
              "      <td>1</td>\n",
              "      <td>0</td>\n",
              "      <td>0</td>\n",
              "      <td>0</td>\n",
              "      <td>0</td>\n",
              "      <td>0</td>\n",
              "      <td>0</td>\n",
              "      <td>0</td>\n",
              "      <td>0</td>\n",
              "      <td>0</td>\n",
              "      <td>0</td>\n",
              "      <td>1</td>\n",
              "      <td>1</td>\n",
              "      <td>0</td>\n",
              "      <td>0</td>\n",
              "      <td>1</td>\n",
              "      <td>30</td>\n",
              "      <td>1</td>\n",
              "      <td>1</td>\n",
              "      <td>4</td>\n",
              "    </tr>\n",
              "    <tr>\n",
              "      <th>1</th>\n",
              "      <td>6</td>\n",
              "      <td>11</td>\n",
              "      <td>1</td>\n",
              "      <td>0</td>\n",
              "      <td>1</td>\n",
              "      <td>0</td>\n",
              "      <td>0</td>\n",
              "      <td>0</td>\n",
              "      <td>0</td>\n",
              "      <td>0</td>\n",
              "      <td>0</td>\n",
              "      <td>0</td>\n",
              "      <td>0</td>\n",
              "      <td>0</td>\n",
              "      <td>0</td>\n",
              "      <td>1</td>\n",
              "      <td>1</td>\n",
              "      <td>0</td>\n",
              "      <td>0</td>\n",
              "      <td>1</td>\n",
              "      <td>30</td>\n",
              "      <td>0</td>\n",
              "      <td>1</td>\n",
              "      <td>3</td>\n",
              "    </tr>\n",
              "    <tr>\n",
              "      <th>2</th>\n",
              "      <td>7</td>\n",
              "      <td>11</td>\n",
              "      <td>1</td>\n",
              "      <td>0</td>\n",
              "      <td>0</td>\n",
              "      <td>0</td>\n",
              "      <td>0</td>\n",
              "      <td>0</td>\n",
              "      <td>0</td>\n",
              "      <td>0</td>\n",
              "      <td>0</td>\n",
              "      <td>0</td>\n",
              "      <td>0</td>\n",
              "      <td>0</td>\n",
              "      <td>0</td>\n",
              "      <td>1</td>\n",
              "      <td>0</td>\n",
              "      <td>0</td>\n",
              "      <td>0</td>\n",
              "      <td>1</td>\n",
              "      <td>30</td>\n",
              "      <td>0</td>\n",
              "      <td>1</td>\n",
              "      <td>1</td>\n",
              "    </tr>\n",
              "    <tr>\n",
              "      <th>3</th>\n",
              "      <td>5</td>\n",
              "      <td>11</td>\n",
              "      <td>0</td>\n",
              "      <td>0</td>\n",
              "      <td>0</td>\n",
              "      <td>0</td>\n",
              "      <td>0</td>\n",
              "      <td>0</td>\n",
              "      <td>0</td>\n",
              "      <td>0</td>\n",
              "      <td>0</td>\n",
              "      <td>0</td>\n",
              "      <td>0</td>\n",
              "      <td>1</td>\n",
              "      <td>0</td>\n",
              "      <td>1</td>\n",
              "      <td>1</td>\n",
              "      <td>0</td>\n",
              "      <td>0</td>\n",
              "      <td>1</td>\n",
              "      <td>30</td>\n",
              "      <td>1</td>\n",
              "      <td>0</td>\n",
              "      <td>4</td>\n",
              "    </tr>\n",
              "    <tr>\n",
              "      <th>4</th>\n",
              "      <td>7</td>\n",
              "      <td>11</td>\n",
              "      <td>1</td>\n",
              "      <td>0</td>\n",
              "      <td>0</td>\n",
              "      <td>0</td>\n",
              "      <td>1</td>\n",
              "      <td>0</td>\n",
              "      <td>0</td>\n",
              "      <td>0</td>\n",
              "      <td>0</td>\n",
              "      <td>0</td>\n",
              "      <td>0</td>\n",
              "      <td>1</td>\n",
              "      <td>0</td>\n",
              "      <td>0</td>\n",
              "      <td>1</td>\n",
              "      <td>0</td>\n",
              "      <td>0</td>\n",
              "      <td>1</td>\n",
              "      <td>1</td>\n",
              "      <td>0</td>\n",
              "      <td>0</td>\n",
              "      <td>3</td>\n",
              "    </tr>\n",
              "  </tbody>\n",
              "</table>\n",
              "</div>"
            ],
            "text/plain": [
              "   Age  Country  Gender  ...  ChronicDiseaseQ  DeathQ  combined_symptoms\n",
              "0    5       11       0  ...                1       1                  4\n",
              "1    6       11       1  ...                0       1                  3\n",
              "2    7       11       1  ...                0       1                  1\n",
              "3    5       11       0  ...                1       0                  4\n",
              "4    7       11       1  ...                0       0                  3\n",
              "\n",
              "[5 rows x 24 columns]"
            ]
          },
          "metadata": {
            "tags": []
          },
          "execution_count": 116
        }
      ]
    },
    {
      "cell_type": "code",
      "metadata": {
        "id": "cmEcQRUZ2hPU",
        "colab_type": "code",
        "colab": {}
      },
      "source": [
        "X = df_1.drop(['DeathQ'],axis = 1)\n",
        "y = df_1['DeathQ']"
      ],
      "execution_count": 0,
      "outputs": []
    },
    {
      "cell_type": "code",
      "metadata": {
        "id": "MszkcZI1_JyQ",
        "colab_type": "code",
        "colab": {
          "base_uri": "https://localhost:8080/",
          "height": 34
        },
        "outputId": "f1d5c7f0-9c19-4d9f-8e02-f219c27b4f73"
      },
      "source": [
        "from sklearn.model_selection import train_test_split\n",
        "X_train, X_test, y_train, y_test = train_test_split(X, y, stratify=df_1['DeathQ'],test_size=0.3, random_state=10)\n",
        "X_test.shape"
      ],
      "execution_count": 118,
      "outputs": [
        {
          "output_type": "execute_result",
          "data": {
            "text/plain": [
              "(222, 23)"
            ]
          },
          "metadata": {
            "tags": []
          },
          "execution_count": 118
        }
      ]
    },
    {
      "cell_type": "code",
      "metadata": {
        "id": "OMH3XkNq_him",
        "colab_type": "code",
        "colab": {}
      },
      "source": [
        "from sklearn.preprocessing import StandardScaler\n",
        "scaler = StandardScaler()"
      ],
      "execution_count": 0,
      "outputs": []
    },
    {
      "cell_type": "code",
      "metadata": {
        "id": "gsNQtiQU_mLL",
        "colab_type": "code",
        "colab": {}
      },
      "source": [
        "scaler.fit(X_train)\n",
        "X_train = scaler.transform(X_train)\n",
        "X_test = scaler.transform(X_test)"
      ],
      "execution_count": 0,
      "outputs": []
    },
    {
      "cell_type": "markdown",
      "metadata": {
        "id": "VltWnC9k_siu",
        "colab_type": "text"
      },
      "source": [
        "# SMOTE\n"
      ]
    },
    {
      "cell_type": "code",
      "metadata": {
        "id": "dMjfARCd_wyp",
        "colab_type": "code",
        "colab": {
          "base_uri": "https://localhost:8080/",
          "height": 207
        },
        "outputId": "c6b489df-d3e6-4052-d176-51d41c3f6d8d"
      },
      "source": [
        "print(\"Before OverSampling, counts of label '1': {}\".format(sum(y_train == 1))) \n",
        "print(\"Before OverSampling, counts of label '0': {} \\n\".format(sum(y_train == 0))) \n",
        "  \n",
        "# import SMOTE module from imblearn library \n",
        "# pip install imblearn (if you don't have imblearn in your system) \n",
        "from imblearn.over_sampling import SMOTE \n",
        "sm = SMOTE(random_state = 2) \n",
        "X_train_res, y_train_res = sm.fit_sample(X_train, y_train.ravel()) \n",
        "  \n",
        "print('After OverSampling, the shape of train_X: {}'.format(X_train_res.shape)) \n",
        "print('After OverSampling, the shape of train_y: {} \\n'.format(y_train_res.shape)) \n",
        "  \n",
        "print(\"After OverSampling, counts of label '1': {}\".format(sum(y_train_res == 1))) \n",
        "print(\"After OverSampling, counts of label '0': {}\".format(sum(y_train_res == 0)))"
      ],
      "execution_count": 121,
      "outputs": [
        {
          "output_type": "stream",
          "text": [
            "Before OverSampling, counts of label '1': 33\n",
            "Before OverSampling, counts of label '0': 484 \n",
            "\n",
            "After OverSampling, the shape of train_X: (968, 23)\n",
            "After OverSampling, the shape of train_y: (968,) \n",
            "\n",
            "After OverSampling, counts of label '1': 484\n",
            "After OverSampling, counts of label '0': 484\n"
          ],
          "name": "stdout"
        },
        {
          "output_type": "stream",
          "text": [
            "/usr/local/lib/python3.6/dist-packages/sklearn/utils/deprecation.py:87: FutureWarning: Function safe_indexing is deprecated; safe_indexing is deprecated in version 0.22 and will be removed in version 0.24.\n",
            "  warnings.warn(msg, category=FutureWarning)\n"
          ],
          "name": "stderr"
        }
      ]
    },
    {
      "cell_type": "code",
      "metadata": {
        "id": "MOA7Qm-H_w3a",
        "colab_type": "code",
        "colab": {
          "base_uri": "https://localhost:8080/",
          "height": 102
        },
        "outputId": "9cb2ff5a-155e-450a-c1fd-f63dd095323a"
      },
      "source": [
        "# Let's use the statsmodel library \n",
        "import statsmodels.api as sm\n",
        "\n",
        "# Fit the logistic regression function\n",
        "logReg_4 = sm.Logit(y_train_res,X_train_res)\n",
        "answer_4 = logReg_4.fit()"
      ],
      "execution_count": 122,
      "outputs": [
        {
          "output_type": "stream",
          "text": [
            "Warning: Maximum number of iterations has been exceeded.\n",
            "         Current function value: 0.403084\n",
            "         Iterations: 35\n"
          ],
          "name": "stdout"
        },
        {
          "output_type": "stream",
          "text": [
            "/usr/local/lib/python3.6/dist-packages/statsmodels/base/model.py:512: ConvergenceWarning: Maximum Likelihood optimization failed to converge. Check mle_retvals\n",
            "  \"Check mle_retvals\", ConvergenceWarning)\n"
          ],
          "name": "stderr"
        }
      ]
    },
    {
      "cell_type": "code",
      "metadata": {
        "id": "MDTgz0_3TBRv",
        "colab_type": "code",
        "colab": {
          "base_uri": "https://localhost:8080/",
          "height": 544
        },
        "outputId": "7fe2ac16-78bf-421d-fe05-cea29dd1721d"
      },
      "source": [
        "df_1.info()"
      ],
      "execution_count": 123,
      "outputs": [
        {
          "output_type": "stream",
          "text": [
            "<class 'pandas.core.frame.DataFrame'>\n",
            "Int64Index: 739 entries, 0 to 761\n",
            "Data columns (total 24 columns):\n",
            " #   Column                      Non-Null Count  Dtype\n",
            "---  ------                      --------------  -----\n",
            " 0   Age                         739 non-null    int64\n",
            " 1   Country                     739 non-null    int64\n",
            " 2   Gender                      739 non-null    int64\n",
            " 3   Diarrhea                    739 non-null    int64\n",
            " 4   Sputum                      739 non-null    int64\n",
            " 5   Chills                      739 non-null    int64\n",
            " 6   Shortness of Breath         739 non-null    int64\n",
            " 7   Other Resperatory Symptoms  739 non-null    int64\n",
            " 8   Malaise                     739 non-null    int64\n",
            " 9   Rhinorrhea                  739 non-null    int64\n",
            " 10  Headache                    739 non-null    int64\n",
            " 11  Pneumonia                   739 non-null    int64\n",
            " 12  mild symptoms               739 non-null    int64\n",
            " 13  chest pain                  739 non-null    int64\n",
            " 14  sore throat                 739 non-null    int64\n",
            " 15  cough                       739 non-null    int64\n",
            " 16  fever                       739 non-null    int64\n",
            " 17  sneezing                    739 non-null    int64\n",
            " 18  Pneumonitis                 739 non-null    int64\n",
            " 19  LivesInWuhan                739 non-null    int64\n",
            " 20  TravelHistoryLocation       739 non-null    int64\n",
            " 21  ChronicDiseaseQ             739 non-null    int64\n",
            " 22  DeathQ                      739 non-null    int64\n",
            " 23  combined_symptoms           739 non-null    int64\n",
            "dtypes: int64(24)\n",
            "memory usage: 164.3 KB\n"
          ],
          "name": "stdout"
        }
      ]
    },
    {
      "cell_type": "code",
      "metadata": {
        "id": "X_vk9B3C_w6c",
        "colab_type": "code",
        "colab": {
          "base_uri": "https://localhost:8080/",
          "height": 629
        },
        "outputId": "1d8d6791-8efc-45d4-dae2-5841f5ed975f"
      },
      "source": [
        "print(answer_4.summary())"
      ],
      "execution_count": 124,
      "outputs": [
        {
          "output_type": "stream",
          "text": [
            "                           Logit Regression Results                           \n",
            "==============================================================================\n",
            "Dep. Variable:                      y   No. Observations:                  968\n",
            "Model:                          Logit   Df Residuals:                      946\n",
            "Method:                           MLE   Df Model:                           21\n",
            "Date:                Sat, 09 May 2020   Pseudo R-squ.:                  0.4185\n",
            "Time:                        01:59:18   Log-Likelihood:                -390.19\n",
            "converged:                      False   LL-Null:                       -670.97\n",
            "Covariance Type:            nonrobust   LLR p-value:                1.899e-105\n",
            "==============================================================================\n",
            "                 coef    std err          z      P>|z|      [0.025      0.975]\n",
            "------------------------------------------------------------------------------\n",
            "x1             0.4537      0.100      4.519      0.000       0.257       0.650\n",
            "x2            -0.2591      0.109     -2.387      0.017      -0.472      -0.046\n",
            "x3             0.3177      0.094      3.370      0.001       0.133       0.503\n",
            "x4             0.0574   8.01e+05   7.17e-08      1.000   -1.57e+06    1.57e+06\n",
            "x5             0.0258   1.18e+06   2.19e-08      1.000   -2.32e+06    2.32e+06\n",
            "x6            -0.0018   1.15e+06  -1.58e-09      1.000   -2.26e+06    2.26e+06\n",
            "x7            -0.0084   1.21e+06  -6.97e-09      1.000   -2.37e+06    2.37e+06\n",
            "x8            -0.2986   1.06e+06  -2.82e-07      1.000   -2.08e+06    2.08e+06\n",
            "x9            -0.0346   1.12e+06  -3.08e-08      1.000    -2.2e+06     2.2e+06\n",
            "x10           -0.2535   1.58e+06  -1.61e-07      1.000   -3.09e+06    3.09e+06\n",
            "x11           -0.0760   1.34e+06  -5.68e-08      1.000   -2.62e+06    2.62e+06\n",
            "x12            0.1303   1.15e+06   1.13e-07      1.000   -2.26e+06    2.26e+06\n",
            "x13           -0.1698   8.44e+05  -2.01e-07      1.000   -1.65e+06    1.65e+06\n",
            "x14           -0.0263   9.59e+05  -2.74e-08      1.000   -1.88e+06    1.88e+06\n",
            "x15           -0.0925   1.52e+06  -6.09e-08      1.000   -2.98e+06    2.98e+06\n",
            "x16            0.1310      3e+06   4.36e-08      1.000   -5.89e+06    5.89e+06\n",
            "x17            0.0250   2.81e+06   8.92e-09      1.000    -5.5e+06     5.5e+06\n",
            "x18            0.0775   4.65e+05   1.67e-07      1.000   -9.12e+05    9.12e+05\n",
            "x19           -0.1798   1.31e+06  -1.37e-07      1.000   -2.58e+06    2.58e+06\n",
            "x20            0.2831      0.102      2.778      0.005       0.083       0.483\n",
            "x21            0.6580      0.091      7.203      0.000       0.479       0.837\n",
            "x22            0.8392    1.5e+06    5.6e-07      1.000   -2.93e+06    2.93e+06\n",
            "x23            0.0931    6.1e+06   1.53e-08      1.000    -1.2e+07     1.2e+07\n",
            "==============================================================================\n"
          ],
          "name": "stdout"
        }
      ]
    },
    {
      "cell_type": "markdown",
      "metadata": {
        "id": "Jj4Ks-DSmsFa",
        "colab_type": "text"
      },
      "source": [
        "# *we can see from the above results and conclude from the p value that most significant independent variables in our model are Age, Gender,LivesInWuhan,Country,fever,cough,TravelHistoryLocation,ChronicDiseaseQ,Pneumonia,combined_symptoms.*\n",
        "\n",
        "\n"
      ]
    },
    {
      "cell_type": "markdown",
      "metadata": {
        "id": "VvDnCxJfU9z0",
        "colab_type": "text"
      },
      "source": [
        "# **Choosing Evaluation Metric**"
      ]
    },
    {
      "cell_type": "markdown",
      "metadata": {
        "id": "9OqkhHwYYRs_",
        "colab_type": "text"
      },
      "source": [
        "In this case my priority would be minimizing false negatives because if a model gives a wrong prediction that a patient would nor die then he may not be given required attention by the staff and may die. at the same time for us minimising false positives is also important because if the person in the stable condient who does not require extra atention is send to intensive care unit, then there may be shortage of beds in the hospital and some patient who is in real need of intensive care may not get it . hence we need a balance between and recall and hence i would choose F1 score which is hormonic mean of precision and recall as as my evaluation metric."
      ]
    },
    {
      "cell_type": "markdown",
      "metadata": {
        "id": "DIS6e_CooeP9",
        "colab_type": "text"
      },
      "source": [
        "# Model"
      ]
    },
    {
      "cell_type": "code",
      "metadata": {
        "id": "GVtA2Q0x_w_l",
        "colab_type": "code",
        "colab": {
          "base_uri": "https://localhost:8080/",
          "height": 71
        },
        "outputId": "8029ef31-d986-4513-cd17-477650df7f58"
      },
      "source": [
        "from sklearn.model_selection import train_test_split\n",
        "from sklearn.linear_model import LogisticRegression\n",
        "from sklearn.tree import DecisionTreeClassifier\n",
        "from sklearn.ensemble import RandomForestClassifier\n",
        "from sklearn.naive_bayes import GaussianNB\n",
        "from sklearn.neighbors import KNeighborsClassifier\n",
        "from sklearn.svm import LinearSVC,SVC\n",
        "from sklearn.ensemble import AdaBoostClassifier\n",
        "from sklearn.ensemble import GradientBoostingClassifier\n",
        "from sklearn.ensemble import ExtraTreesClassifier\n",
        "from sklearn.metrics import accuracy_score\n",
        "from sklearn.preprocessing import LabelEncoder, MinMaxScaler\n",
        "from sklearn.tree import plot_tree\n",
        "from sklearn.model_selection import GridSearchCV\n",
        "from sklearn.model_selection import StratifiedKFold\n",
        "#from xgboost import XGBClassifier\n",
        "#from catboost import CatBoostClassifier\n",
        "from sklearn.metrics import confusion_matrix,accuracy_score,classification_report\n",
        "from sklearn.metrics import roc_auc_score,roc_curve,scorer\n",
        "from sklearn.metrics import f1_score\n",
        "import statsmodels.api as sm\n",
        "from sklearn.metrics import precision_score,recall_score\n",
        "#from yellowbrick.classifier import DiscriminationThreshold"
      ],
      "execution_count": 58,
      "outputs": [
        {
          "output_type": "stream",
          "text": [
            "/usr/local/lib/python3.6/dist-packages/sklearn/utils/deprecation.py:144: FutureWarning: The sklearn.metrics.scorer module is  deprecated in version 0.22 and will be removed in version 0.24. The corresponding classes / functions should instead be imported from sklearn.metrics. Anything that cannot be imported from sklearn.metrics is now part of the private API.\n",
            "  warnings.warn(message, FutureWarning)\n"
          ],
          "name": "stderr"
        }
      ]
    },
    {
      "cell_type": "code",
      "metadata": {
        "id": "lIjrHsW3_xCa",
        "colab_type": "code",
        "colab": {
          "base_uri": "https://localhost:8080/",
          "height": 119
        },
        "outputId": "86d9a11c-bce3-4a8d-82f3-f543770adb3a"
      },
      "source": [
        "from xgboost import XGBClassifier\n",
        "import pandas as pd\n",
        "classifiers = [['DecisionTree :',DecisionTreeClassifier()],\n",
        "               ['Naive Bayes :', GaussianNB()],\n",
        "               ['KNeighbours :', KNeighborsClassifier()],\n",
        "               ['LogisticRegression :', LogisticRegression()],\n",
        "               ['XgBoostClassifier :', XGBClassifier()],\n",
        "               ['Random Forest :', RandomForestClassifier()]]\n",
        "\n",
        "\n",
        "\n",
        "\n",
        "recall_df = pd.DataFrame(columns=['name','recall score'])\n",
        "f1_df = pd.DataFrame(columns=['name','f1 score'])\n",
        "\n",
        "for name,classifier in classifiers:\n",
        "    clf = classifier\n",
        "    #y_train_res,X_train_res\n",
        "    clf.fit(X_train_res, y_train_res)\n",
        "    predictions = clf.predict(X_test)\n",
        "    recall_s = recall_score(y_test, predictions)\n",
        "    f1_s = f1_score(y_test, predictions)\n",
        "    print(name, recall_s)\n",
        "    recall_df = recall_df.append({'name':name,'recall score':recall_s},ignore_index=True)\n",
        "    f1_df = f1_df.append({'name':name,'f1 score':f1_s},ignore_index=True)"
      ],
      "execution_count": 59,
      "outputs": [
        {
          "output_type": "stream",
          "text": [
            "DecisionTree : 0.7142857142857143\n",
            "Naive Bayes : 1.0\n",
            "KNeighbours : 0.7857142857142857\n",
            "LogisticRegression : 0.7857142857142857\n",
            "XgBoostClassifier : 0.7857142857142857\n",
            "Random Forest : 0.7142857142857143\n"
          ],
          "name": "stdout"
        }
      ]
    },
    {
      "cell_type": "code",
      "metadata": {
        "id": "N76041-C_xIV",
        "colab_type": "code",
        "colab": {
          "base_uri": "https://localhost:8080/",
          "height": 235
        },
        "outputId": "ff3874fb-f543-4bf6-a9c7-c483db7be800"
      },
      "source": [
        "f1_df"
      ],
      "execution_count": 61,
      "outputs": [
        {
          "output_type": "execute_result",
          "data": {
            "text/html": [
              "<div>\n",
              "<style scoped>\n",
              "    .dataframe tbody tr th:only-of-type {\n",
              "        vertical-align: middle;\n",
              "    }\n",
              "\n",
              "    .dataframe tbody tr th {\n",
              "        vertical-align: top;\n",
              "    }\n",
              "\n",
              "    .dataframe thead th {\n",
              "        text-align: right;\n",
              "    }\n",
              "</style>\n",
              "<table border=\"1\" class=\"dataframe\">\n",
              "  <thead>\n",
              "    <tr style=\"text-align: right;\">\n",
              "      <th></th>\n",
              "      <th>name</th>\n",
              "      <th>f1 score</th>\n",
              "    </tr>\n",
              "  </thead>\n",
              "  <tbody>\n",
              "    <tr>\n",
              "      <th>0</th>\n",
              "      <td>DecisionTree :</td>\n",
              "      <td>0.769231</td>\n",
              "    </tr>\n",
              "    <tr>\n",
              "      <th>1</th>\n",
              "      <td>Naive Bayes :</td>\n",
              "      <td>0.137255</td>\n",
              "    </tr>\n",
              "    <tr>\n",
              "      <th>2</th>\n",
              "      <td>KNeighbours :</td>\n",
              "      <td>0.511628</td>\n",
              "    </tr>\n",
              "    <tr>\n",
              "      <th>3</th>\n",
              "      <td>LogisticRegression :</td>\n",
              "      <td>0.488889</td>\n",
              "    </tr>\n",
              "    <tr>\n",
              "      <th>4</th>\n",
              "      <td>XgBoostClassifier :</td>\n",
              "      <td>0.758621</td>\n",
              "    </tr>\n",
              "    <tr>\n",
              "      <th>5</th>\n",
              "      <td>Random Forest :</td>\n",
              "      <td>0.769231</td>\n",
              "    </tr>\n",
              "  </tbody>\n",
              "</table>\n",
              "</div>"
            ],
            "text/plain": [
              "                   name  f1 score\n",
              "0        DecisionTree :  0.769231\n",
              "1         Naive Bayes :  0.137255\n",
              "2         KNeighbours :  0.511628\n",
              "3  LogisticRegression :  0.488889\n",
              "4   XgBoostClassifier :  0.758621\n",
              "5       Random Forest :  0.769231"
            ]
          },
          "metadata": {
            "tags": []
          },
          "execution_count": 61
        }
      ]
    },
    {
      "cell_type": "code",
      "metadata": {
        "id": "vFw2RtGC_xMW",
        "colab_type": "code",
        "colab": {
          "base_uri": "https://localhost:8080/",
          "height": 235
        },
        "outputId": "fff8c46e-f8c4-47a9-fa2f-f6b591b7f832"
      },
      "source": [
        "recall_df"
      ],
      "execution_count": 63,
      "outputs": [
        {
          "output_type": "execute_result",
          "data": {
            "text/html": [
              "<div>\n",
              "<style scoped>\n",
              "    .dataframe tbody tr th:only-of-type {\n",
              "        vertical-align: middle;\n",
              "    }\n",
              "\n",
              "    .dataframe tbody tr th {\n",
              "        vertical-align: top;\n",
              "    }\n",
              "\n",
              "    .dataframe thead th {\n",
              "        text-align: right;\n",
              "    }\n",
              "</style>\n",
              "<table border=\"1\" class=\"dataframe\">\n",
              "  <thead>\n",
              "    <tr style=\"text-align: right;\">\n",
              "      <th></th>\n",
              "      <th>name</th>\n",
              "      <th>recall score</th>\n",
              "    </tr>\n",
              "  </thead>\n",
              "  <tbody>\n",
              "    <tr>\n",
              "      <th>0</th>\n",
              "      <td>DecisionTree :</td>\n",
              "      <td>0.714286</td>\n",
              "    </tr>\n",
              "    <tr>\n",
              "      <th>1</th>\n",
              "      <td>Naive Bayes :</td>\n",
              "      <td>1.000000</td>\n",
              "    </tr>\n",
              "    <tr>\n",
              "      <th>2</th>\n",
              "      <td>KNeighbours :</td>\n",
              "      <td>0.785714</td>\n",
              "    </tr>\n",
              "    <tr>\n",
              "      <th>3</th>\n",
              "      <td>LogisticRegression :</td>\n",
              "      <td>0.785714</td>\n",
              "    </tr>\n",
              "    <tr>\n",
              "      <th>4</th>\n",
              "      <td>XgBoostClassifier :</td>\n",
              "      <td>0.785714</td>\n",
              "    </tr>\n",
              "    <tr>\n",
              "      <th>5</th>\n",
              "      <td>Random Forest :</td>\n",
              "      <td>0.714286</td>\n",
              "    </tr>\n",
              "  </tbody>\n",
              "</table>\n",
              "</div>"
            ],
            "text/plain": [
              "                   name  recall score\n",
              "0        DecisionTree :      0.714286\n",
              "1         Naive Bayes :      1.000000\n",
              "2         KNeighbours :      0.785714\n",
              "3  LogisticRegression :      0.785714\n",
              "4   XgBoostClassifier :      0.785714\n",
              "5       Random Forest :      0.714286"
            ]
          },
          "metadata": {
            "tags": []
          },
          "execution_count": 63
        }
      ]
    },
    {
      "cell_type": "code",
      "metadata": {
        "id": "BMcL-oeE_w9E",
        "colab_type": "code",
        "colab": {}
      },
      "source": [
        ""
      ],
      "execution_count": 0,
      "outputs": []
    },
    {
      "cell_type": "markdown",
      "metadata": {
        "id": "A1zrTzhlBq3K",
        "colab_type": "text"
      },
      "source": [
        "creating data with significant features"
      ]
    },
    {
      "cell_type": "code",
      "metadata": {
        "id": "AORLBQAs_rcq",
        "colab_type": "code",
        "colab": {
          "base_uri": "https://localhost:8080/",
          "height": 258
        },
        "outputId": "e0bf6882-a4a5-4944-ec0e-0914a55efed8"
      },
      "source": [
        "df.head()"
      ],
      "execution_count": 64,
      "outputs": [
        {
          "output_type": "execute_result",
          "data": {
            "text/html": [
              "<div>\n",
              "<style scoped>\n",
              "    .dataframe tbody tr th:only-of-type {\n",
              "        vertical-align: middle;\n",
              "    }\n",
              "\n",
              "    .dataframe tbody tr th {\n",
              "        vertical-align: top;\n",
              "    }\n",
              "\n",
              "    .dataframe thead th {\n",
              "        text-align: right;\n",
              "    }\n",
              "</style>\n",
              "<table border=\"1\" class=\"dataframe\">\n",
              "  <thead>\n",
              "    <tr style=\"text-align: right;\">\n",
              "      <th></th>\n",
              "      <th>Age</th>\n",
              "      <th>Country</th>\n",
              "      <th>Gender</th>\n",
              "      <th>Diarrhea</th>\n",
              "      <th>Sputum</th>\n",
              "      <th>Chills</th>\n",
              "      <th>Shortness of Breath</th>\n",
              "      <th>Other Resperatory Symptoms</th>\n",
              "      <th>Malaise</th>\n",
              "      <th>Rhinorrhea</th>\n",
              "      <th>Headache</th>\n",
              "      <th>Pneumonia</th>\n",
              "      <th>mild symptoms</th>\n",
              "      <th>chest pain</th>\n",
              "      <th>sore throat</th>\n",
              "      <th>cough</th>\n",
              "      <th>fever</th>\n",
              "      <th>sneezing</th>\n",
              "      <th>Pneumonitis</th>\n",
              "      <th>LivesInWuhan</th>\n",
              "      <th>TravelHistoryLocation</th>\n",
              "      <th>ChronicDiseaseQ</th>\n",
              "      <th>DeathQ</th>\n",
              "      <th>combined_symptoms</th>\n",
              "    </tr>\n",
              "  </thead>\n",
              "  <tbody>\n",
              "    <tr>\n",
              "      <th>0</th>\n",
              "      <td>5</td>\n",
              "      <td>11</td>\n",
              "      <td>0</td>\n",
              "      <td>0</td>\n",
              "      <td>1</td>\n",
              "      <td>0</td>\n",
              "      <td>0</td>\n",
              "      <td>0</td>\n",
              "      <td>0</td>\n",
              "      <td>0</td>\n",
              "      <td>0</td>\n",
              "      <td>0</td>\n",
              "      <td>0</td>\n",
              "      <td>0</td>\n",
              "      <td>0</td>\n",
              "      <td>1</td>\n",
              "      <td>1</td>\n",
              "      <td>0</td>\n",
              "      <td>0</td>\n",
              "      <td>1</td>\n",
              "      <td>30</td>\n",
              "      <td>1</td>\n",
              "      <td>1</td>\n",
              "      <td>4</td>\n",
              "    </tr>\n",
              "    <tr>\n",
              "      <th>1</th>\n",
              "      <td>6</td>\n",
              "      <td>11</td>\n",
              "      <td>1</td>\n",
              "      <td>0</td>\n",
              "      <td>1</td>\n",
              "      <td>0</td>\n",
              "      <td>0</td>\n",
              "      <td>0</td>\n",
              "      <td>0</td>\n",
              "      <td>0</td>\n",
              "      <td>0</td>\n",
              "      <td>0</td>\n",
              "      <td>0</td>\n",
              "      <td>0</td>\n",
              "      <td>0</td>\n",
              "      <td>1</td>\n",
              "      <td>1</td>\n",
              "      <td>0</td>\n",
              "      <td>0</td>\n",
              "      <td>1</td>\n",
              "      <td>30</td>\n",
              "      <td>0</td>\n",
              "      <td>1</td>\n",
              "      <td>3</td>\n",
              "    </tr>\n",
              "    <tr>\n",
              "      <th>2</th>\n",
              "      <td>7</td>\n",
              "      <td>11</td>\n",
              "      <td>1</td>\n",
              "      <td>0</td>\n",
              "      <td>0</td>\n",
              "      <td>0</td>\n",
              "      <td>0</td>\n",
              "      <td>0</td>\n",
              "      <td>0</td>\n",
              "      <td>0</td>\n",
              "      <td>0</td>\n",
              "      <td>0</td>\n",
              "      <td>0</td>\n",
              "      <td>0</td>\n",
              "      <td>0</td>\n",
              "      <td>1</td>\n",
              "      <td>0</td>\n",
              "      <td>0</td>\n",
              "      <td>0</td>\n",
              "      <td>1</td>\n",
              "      <td>30</td>\n",
              "      <td>0</td>\n",
              "      <td>1</td>\n",
              "      <td>1</td>\n",
              "    </tr>\n",
              "    <tr>\n",
              "      <th>3</th>\n",
              "      <td>5</td>\n",
              "      <td>11</td>\n",
              "      <td>0</td>\n",
              "      <td>0</td>\n",
              "      <td>0</td>\n",
              "      <td>0</td>\n",
              "      <td>0</td>\n",
              "      <td>0</td>\n",
              "      <td>0</td>\n",
              "      <td>0</td>\n",
              "      <td>0</td>\n",
              "      <td>0</td>\n",
              "      <td>0</td>\n",
              "      <td>1</td>\n",
              "      <td>0</td>\n",
              "      <td>1</td>\n",
              "      <td>1</td>\n",
              "      <td>0</td>\n",
              "      <td>0</td>\n",
              "      <td>1</td>\n",
              "      <td>30</td>\n",
              "      <td>1</td>\n",
              "      <td>0</td>\n",
              "      <td>4</td>\n",
              "    </tr>\n",
              "    <tr>\n",
              "      <th>4</th>\n",
              "      <td>7</td>\n",
              "      <td>11</td>\n",
              "      <td>1</td>\n",
              "      <td>0</td>\n",
              "      <td>0</td>\n",
              "      <td>0</td>\n",
              "      <td>1</td>\n",
              "      <td>0</td>\n",
              "      <td>0</td>\n",
              "      <td>0</td>\n",
              "      <td>0</td>\n",
              "      <td>0</td>\n",
              "      <td>0</td>\n",
              "      <td>1</td>\n",
              "      <td>0</td>\n",
              "      <td>0</td>\n",
              "      <td>1</td>\n",
              "      <td>0</td>\n",
              "      <td>0</td>\n",
              "      <td>1</td>\n",
              "      <td>1</td>\n",
              "      <td>0</td>\n",
              "      <td>0</td>\n",
              "      <td>3</td>\n",
              "    </tr>\n",
              "  </tbody>\n",
              "</table>\n",
              "</div>"
            ],
            "text/plain": [
              "   Age  Country  Gender  ...  ChronicDiseaseQ  DeathQ  combined_symptoms\n",
              "0    5       11       0  ...                1       1                  4\n",
              "1    6       11       1  ...                0       1                  3\n",
              "2    7       11       1  ...                0       1                  1\n",
              "3    5       11       0  ...                1       0                  4\n",
              "4    7       11       1  ...                0       0                  3\n",
              "\n",
              "[5 rows x 24 columns]"
            ]
          },
          "metadata": {
            "tags": []
          },
          "execution_count": 64
        }
      ]
    },
    {
      "cell_type": "code",
      "metadata": {
        "id": "hYVzKc-xCDcE",
        "colab_type": "code",
        "colab": {}
      },
      "source": [
        "#Age, Gender,LivesInWuhan,Country,fever,cough,TravelHistoryLocation,ChronicDiseaseQ,Pneumonia,combined_symptoms."
      ],
      "execution_count": 0,
      "outputs": []
    },
    {
      "cell_type": "code",
      "metadata": {
        "colab_type": "code",
        "id": "VpASta9TCELV",
        "colab": {}
      },
      "source": [
        "iv_4 = ['Age','Gender','LivesInWuhan','Country','fever','cough','TravelHistoryLocation', 'ChronicDiseaseQ','Pneumonia','combined_symptoms','DeathQ' ]"
      ],
      "execution_count": 0,
      "outputs": []
    },
    {
      "cell_type": "code",
      "metadata": {
        "colab_type": "code",
        "id": "4l7aCGtqCpe3",
        "colab": {}
      },
      "source": [
        "df_2 = df[iv_4]"
      ],
      "execution_count": 0,
      "outputs": []
    },
    {
      "cell_type": "code",
      "metadata": {
        "id": "tF22Q1mbCo_N",
        "colab_type": "code",
        "colab": {
          "base_uri": "https://localhost:8080/",
          "height": 204
        },
        "outputId": "36ac829d-214e-4d33-d2fe-59aabab6ce2f"
      },
      "source": [
        "df_2.head()"
      ],
      "execution_count": 67,
      "outputs": [
        {
          "output_type": "execute_result",
          "data": {
            "text/html": [
              "<div>\n",
              "<style scoped>\n",
              "    .dataframe tbody tr th:only-of-type {\n",
              "        vertical-align: middle;\n",
              "    }\n",
              "\n",
              "    .dataframe tbody tr th {\n",
              "        vertical-align: top;\n",
              "    }\n",
              "\n",
              "    .dataframe thead th {\n",
              "        text-align: right;\n",
              "    }\n",
              "</style>\n",
              "<table border=\"1\" class=\"dataframe\">\n",
              "  <thead>\n",
              "    <tr style=\"text-align: right;\">\n",
              "      <th></th>\n",
              "      <th>Age</th>\n",
              "      <th>Gender</th>\n",
              "      <th>LivesInWuhan</th>\n",
              "      <th>Country</th>\n",
              "      <th>fever</th>\n",
              "      <th>cough</th>\n",
              "      <th>TravelHistoryLocation</th>\n",
              "      <th>ChronicDiseaseQ</th>\n",
              "      <th>Pneumonia</th>\n",
              "      <th>combined_symptoms</th>\n",
              "      <th>DeathQ</th>\n",
              "    </tr>\n",
              "  </thead>\n",
              "  <tbody>\n",
              "    <tr>\n",
              "      <th>0</th>\n",
              "      <td>5</td>\n",
              "      <td>0</td>\n",
              "      <td>1</td>\n",
              "      <td>11</td>\n",
              "      <td>1</td>\n",
              "      <td>1</td>\n",
              "      <td>30</td>\n",
              "      <td>1</td>\n",
              "      <td>0</td>\n",
              "      <td>4</td>\n",
              "      <td>1</td>\n",
              "    </tr>\n",
              "    <tr>\n",
              "      <th>1</th>\n",
              "      <td>6</td>\n",
              "      <td>1</td>\n",
              "      <td>1</td>\n",
              "      <td>11</td>\n",
              "      <td>1</td>\n",
              "      <td>1</td>\n",
              "      <td>30</td>\n",
              "      <td>0</td>\n",
              "      <td>0</td>\n",
              "      <td>3</td>\n",
              "      <td>1</td>\n",
              "    </tr>\n",
              "    <tr>\n",
              "      <th>2</th>\n",
              "      <td>7</td>\n",
              "      <td>1</td>\n",
              "      <td>1</td>\n",
              "      <td>11</td>\n",
              "      <td>0</td>\n",
              "      <td>1</td>\n",
              "      <td>30</td>\n",
              "      <td>0</td>\n",
              "      <td>0</td>\n",
              "      <td>1</td>\n",
              "      <td>1</td>\n",
              "    </tr>\n",
              "    <tr>\n",
              "      <th>3</th>\n",
              "      <td>5</td>\n",
              "      <td>0</td>\n",
              "      <td>1</td>\n",
              "      <td>11</td>\n",
              "      <td>1</td>\n",
              "      <td>1</td>\n",
              "      <td>30</td>\n",
              "      <td>1</td>\n",
              "      <td>0</td>\n",
              "      <td>4</td>\n",
              "      <td>0</td>\n",
              "    </tr>\n",
              "    <tr>\n",
              "      <th>4</th>\n",
              "      <td>7</td>\n",
              "      <td>1</td>\n",
              "      <td>1</td>\n",
              "      <td>11</td>\n",
              "      <td>1</td>\n",
              "      <td>0</td>\n",
              "      <td>1</td>\n",
              "      <td>0</td>\n",
              "      <td>0</td>\n",
              "      <td>3</td>\n",
              "      <td>0</td>\n",
              "    </tr>\n",
              "  </tbody>\n",
              "</table>\n",
              "</div>"
            ],
            "text/plain": [
              "   Age  Gender  LivesInWuhan  ...  Pneumonia  combined_symptoms  DeathQ\n",
              "0    5       0             1  ...          0                  4       1\n",
              "1    6       1             1  ...          0                  3       1\n",
              "2    7       1             1  ...          0                  1       1\n",
              "3    5       0             1  ...          0                  4       0\n",
              "4    7       1             1  ...          0                  3       0\n",
              "\n",
              "[5 rows x 11 columns]"
            ]
          },
          "metadata": {
            "tags": []
          },
          "execution_count": 67
        }
      ]
    },
    {
      "cell_type": "code",
      "metadata": {
        "id": "1qYiC28IC44g",
        "colab_type": "code",
        "colab": {}
      },
      "source": [
        "X2 = df_2.drop(['DeathQ'],axis = 1)\n",
        "y2 = df_2['DeathQ']"
      ],
      "execution_count": 0,
      "outputs": []
    },
    {
      "cell_type": "code",
      "metadata": {
        "id": "5rEjSPo0DCFl",
        "colab_type": "code",
        "colab": {
          "base_uri": "https://localhost:8080/",
          "height": 34
        },
        "outputId": "4a391a50-620d-4ef9-c79d-35ede4d8f8c5"
      },
      "source": [
        "from sklearn.model_selection import train_test_split\n",
        "X_train2, X_test2, y_train2, y_test2 = train_test_split(X2, y2, stratify=df_2['DeathQ'],test_size=0.3, random_state=10)\n",
        "X_test2.shape"
      ],
      "execution_count": 69,
      "outputs": [
        {
          "output_type": "execute_result",
          "data": {
            "text/plain": [
              "(222, 10)"
            ]
          },
          "metadata": {
            "tags": []
          },
          "execution_count": 69
        }
      ]
    },
    {
      "cell_type": "code",
      "metadata": {
        "id": "auvISXLsDMs4",
        "colab_type": "code",
        "colab": {}
      },
      "source": [
        "from sklearn.preprocessing import StandardScaler\n",
        "scaler = StandardScaler()"
      ],
      "execution_count": 0,
      "outputs": []
    },
    {
      "cell_type": "code",
      "metadata": {
        "id": "nGGpvaraDQXZ",
        "colab_type": "code",
        "colab": {}
      },
      "source": [
        "scaler.fit(X_train)\n",
        "X_train = scaler.transform(X_train)\n",
        "X_test = scaler.transform(X_test)"
      ],
      "execution_count": 0,
      "outputs": []
    },
    {
      "cell_type": "code",
      "metadata": {
        "id": "QFo7rOBdDV7J",
        "colab_type": "code",
        "colab": {
          "base_uri": "https://localhost:8080/",
          "height": 207
        },
        "outputId": "d5503862-5066-4acb-81af-4b9196371f9c"
      },
      "source": [
        "print(\"Before OverSampling, counts of label '1': {}\".format(sum(y_train2 == 1))) \n",
        "print(\"Before OverSampling, counts of label '0': {} \\n\".format(sum(y_train2 == 0))) \n",
        "  \n",
        "# import SMOTE module from imblearn library \n",
        "# pip install imblearn (if you don't have imblearn in your system) \n",
        "from imblearn.over_sampling import SMOTE \n",
        "sm = SMOTE(random_state = 2) \n",
        "X_train_res2, y_train_res2 = sm.fit_sample(X_train2, y_train2.ravel()) \n",
        "  \n",
        "print('After OverSampling, the shape of train_X: {}'.format(X_train_res2.shape)) \n",
        "print('After OverSampling, the shape of train_y: {} \\n'.format(y_train_res2.shape)) \n",
        "  \n",
        "print(\"After OverSampling, counts of label '1': {}\".format(sum(y_train_res2 == 1))) \n",
        "print(\"After OverSampling, counts of label '0': {}\".format(sum(y_train_res2 == 0)))"
      ],
      "execution_count": 72,
      "outputs": [
        {
          "output_type": "stream",
          "text": [
            "Before OverSampling, counts of label '1': 33\n",
            "Before OverSampling, counts of label '0': 484 \n",
            "\n",
            "After OverSampling, the shape of train_X: (968, 10)\n",
            "After OverSampling, the shape of train_y: (968,) \n",
            "\n",
            "After OverSampling, counts of label '1': 484\n",
            "After OverSampling, counts of label '0': 484\n"
          ],
          "name": "stdout"
        },
        {
          "output_type": "stream",
          "text": [
            "/usr/local/lib/python3.6/dist-packages/sklearn/utils/deprecation.py:87: FutureWarning: Function safe_indexing is deprecated; safe_indexing is deprecated in version 0.22 and will be removed in version 0.24.\n",
            "  warnings.warn(msg, category=FutureWarning)\n"
          ],
          "name": "stderr"
        }
      ]
    },
    {
      "cell_type": "code",
      "metadata": {
        "id": "luXOfjIyEMJh",
        "colab_type": "code",
        "colab": {
          "base_uri": "https://localhost:8080/",
          "height": 68
        },
        "outputId": "0c56e073-5893-4c29-bc78-05510d3feeae"
      },
      "source": [
        "import statsmodels.api as sm\n",
        "\n",
        "# Fit the logistic regression function\n",
        "logReg_5 = sm.Logit(y_train_res2,X_train_res2)\n",
        "answer_5 = logReg_5.fit()"
      ],
      "execution_count": 73,
      "outputs": [
        {
          "output_type": "stream",
          "text": [
            "Optimization terminated successfully.\n",
            "         Current function value: 0.451544\n",
            "         Iterations 7\n"
          ],
          "name": "stdout"
        }
      ]
    },
    {
      "cell_type": "code",
      "metadata": {
        "colab_type": "code",
        "outputId": "a033daff-5457-49ce-a2e5-cd7448d18ac6",
        "id": "BI5DbS1aEbgA",
        "colab": {
          "base_uri": "https://localhost:8080/",
          "height": 408
        }
      },
      "source": [
        "print(answer_5.summary())"
      ],
      "execution_count": 74,
      "outputs": [
        {
          "output_type": "stream",
          "text": [
            "                           Logit Regression Results                           \n",
            "==============================================================================\n",
            "Dep. Variable:                      y   No. Observations:                  968\n",
            "Model:                          Logit   Df Residuals:                      958\n",
            "Method:                           MLE   Df Model:                            9\n",
            "Date:                Sat, 09 May 2020   Pseudo R-squ.:                  0.3486\n",
            "Time:                        01:34:40   Log-Likelihood:                -437.09\n",
            "converged:                       True   LL-Null:                       -670.97\n",
            "Covariance Type:            nonrobust   LLR p-value:                 4.604e-95\n",
            "==============================================================================\n",
            "                 coef    std err          z      P>|z|      [0.025      0.975]\n",
            "------------------------------------------------------------------------------\n",
            "x1             0.0712      0.044      1.604      0.109      -0.016       0.158\n",
            "x2             0.5097      0.178      2.864      0.004       0.161       0.858\n",
            "x3             0.2029      0.133      1.525      0.127      -0.058       0.464\n",
            "x4            -0.1266      0.015     -8.212      0.000      -0.157      -0.096\n",
            "x5            -1.4249      0.216     -6.594      0.000      -1.848      -1.001\n",
            "x6             0.6266      0.233      2.689      0.007       0.170       1.083\n",
            "x7             0.0741      0.008      8.769      0.000       0.058       0.091\n",
            "x8             3.2118      0.380      8.451      0.000       2.467       3.957\n",
            "x9             1.1734      0.471      2.491      0.013       0.250       2.097\n",
            "x10           -0.2404      0.138     -1.747      0.081      -0.510       0.029\n",
            "==============================================================================\n"
          ],
          "name": "stdout"
        }
      ]
    },
    {
      "cell_type": "code",
      "metadata": {
        "id": "k8d3_KZLEqAH",
        "colab_type": "code",
        "colab": {}
      },
      "source": [
        ""
      ],
      "execution_count": 0,
      "outputs": []
    },
    {
      "cell_type": "code",
      "metadata": {
        "id": "dDPnMmQfEEBI",
        "colab_type": "code",
        "colab": {}
      },
      "source": [
        "#iv_2 = ['Age','Gender',,'LivesInWuhan','Country','fever','cough','TravelHistoryLocation', 'ChronicDiseaseQ',,'combined_symptoms']"
      ],
      "execution_count": 0,
      "outputs": []
    },
    {
      "cell_type": "code",
      "metadata": {
        "colab_type": "code",
        "id": "cMHCdmZkFBc1",
        "colab": {}
      },
      "source": [
        "iv_5 = ['Age','Gender','LivesInWuhan','Country','fever','cough','TravelHistoryLocation', 'ChronicDiseaseQ','Pneumonia','combined_symptoms','Chills','Shortness of Breath','chest pain', 'Headache','mild symptoms','DeathQ' ]"
      ],
      "execution_count": 0,
      "outputs": []
    },
    {
      "cell_type": "code",
      "metadata": {
        "colab_type": "code",
        "id": "gNklRKRMFBdX",
        "colab": {}
      },
      "source": [
        "df_3 = df[iv_5]"
      ],
      "execution_count": 0,
      "outputs": []
    },
    {
      "cell_type": "code",
      "metadata": {
        "colab_type": "code",
        "outputId": "dd5f52ba-c28d-4f56-fe5e-7a44d9aad583",
        "id": "6XvV8oleFBda",
        "colab": {
          "base_uri": "https://localhost:8080/",
          "height": 221
        }
      },
      "source": [
        "df_3.head()"
      ],
      "execution_count": 283,
      "outputs": [
        {
          "output_type": "execute_result",
          "data": {
            "text/html": [
              "<div>\n",
              "<style scoped>\n",
              "    .dataframe tbody tr th:only-of-type {\n",
              "        vertical-align: middle;\n",
              "    }\n",
              "\n",
              "    .dataframe tbody tr th {\n",
              "        vertical-align: top;\n",
              "    }\n",
              "\n",
              "    .dataframe thead th {\n",
              "        text-align: right;\n",
              "    }\n",
              "</style>\n",
              "<table border=\"1\" class=\"dataframe\">\n",
              "  <thead>\n",
              "    <tr style=\"text-align: right;\">\n",
              "      <th></th>\n",
              "      <th>Age</th>\n",
              "      <th>Gender</th>\n",
              "      <th>LivesInWuhan</th>\n",
              "      <th>Country</th>\n",
              "      <th>fever</th>\n",
              "      <th>cough</th>\n",
              "      <th>TravelHistoryLocation</th>\n",
              "      <th>ChronicDiseaseQ</th>\n",
              "      <th>Pneumonia</th>\n",
              "      <th>combined_symptoms</th>\n",
              "      <th>Chills</th>\n",
              "      <th>Shortness of Breath</th>\n",
              "      <th>chest pain</th>\n",
              "      <th>Headache</th>\n",
              "      <th>mild symptoms</th>\n",
              "      <th>DeathQ</th>\n",
              "    </tr>\n",
              "  </thead>\n",
              "  <tbody>\n",
              "    <tr>\n",
              "      <th>0</th>\n",
              "      <td>5</td>\n",
              "      <td>0</td>\n",
              "      <td>1</td>\n",
              "      <td>11</td>\n",
              "      <td>1</td>\n",
              "      <td>1</td>\n",
              "      <td>30</td>\n",
              "      <td>1</td>\n",
              "      <td>0</td>\n",
              "      <td>4</td>\n",
              "      <td>0</td>\n",
              "      <td>0</td>\n",
              "      <td>0</td>\n",
              "      <td>0</td>\n",
              "      <td>0</td>\n",
              "      <td>1</td>\n",
              "    </tr>\n",
              "    <tr>\n",
              "      <th>1</th>\n",
              "      <td>6</td>\n",
              "      <td>1</td>\n",
              "      <td>1</td>\n",
              "      <td>11</td>\n",
              "      <td>1</td>\n",
              "      <td>1</td>\n",
              "      <td>30</td>\n",
              "      <td>0</td>\n",
              "      <td>0</td>\n",
              "      <td>3</td>\n",
              "      <td>0</td>\n",
              "      <td>0</td>\n",
              "      <td>0</td>\n",
              "      <td>0</td>\n",
              "      <td>0</td>\n",
              "      <td>1</td>\n",
              "    </tr>\n",
              "    <tr>\n",
              "      <th>2</th>\n",
              "      <td>7</td>\n",
              "      <td>1</td>\n",
              "      <td>1</td>\n",
              "      <td>11</td>\n",
              "      <td>0</td>\n",
              "      <td>1</td>\n",
              "      <td>30</td>\n",
              "      <td>0</td>\n",
              "      <td>0</td>\n",
              "      <td>1</td>\n",
              "      <td>0</td>\n",
              "      <td>0</td>\n",
              "      <td>0</td>\n",
              "      <td>0</td>\n",
              "      <td>0</td>\n",
              "      <td>1</td>\n",
              "    </tr>\n",
              "    <tr>\n",
              "      <th>3</th>\n",
              "      <td>5</td>\n",
              "      <td>0</td>\n",
              "      <td>1</td>\n",
              "      <td>11</td>\n",
              "      <td>1</td>\n",
              "      <td>1</td>\n",
              "      <td>30</td>\n",
              "      <td>1</td>\n",
              "      <td>0</td>\n",
              "      <td>4</td>\n",
              "      <td>0</td>\n",
              "      <td>0</td>\n",
              "      <td>1</td>\n",
              "      <td>0</td>\n",
              "      <td>0</td>\n",
              "      <td>0</td>\n",
              "    </tr>\n",
              "    <tr>\n",
              "      <th>4</th>\n",
              "      <td>7</td>\n",
              "      <td>1</td>\n",
              "      <td>1</td>\n",
              "      <td>11</td>\n",
              "      <td>1</td>\n",
              "      <td>0</td>\n",
              "      <td>1</td>\n",
              "      <td>0</td>\n",
              "      <td>0</td>\n",
              "      <td>3</td>\n",
              "      <td>0</td>\n",
              "      <td>1</td>\n",
              "      <td>1</td>\n",
              "      <td>0</td>\n",
              "      <td>0</td>\n",
              "      <td>0</td>\n",
              "    </tr>\n",
              "  </tbody>\n",
              "</table>\n",
              "</div>"
            ],
            "text/plain": [
              "   Age  Gender  LivesInWuhan  ...  Headache  mild symptoms  DeathQ\n",
              "0    5       0             1  ...         0              0       1\n",
              "1    6       1             1  ...         0              0       1\n",
              "2    7       1             1  ...         0              0       1\n",
              "3    5       0             1  ...         0              0       0\n",
              "4    7       1             1  ...         0              0       0\n",
              "\n",
              "[5 rows x 16 columns]"
            ]
          },
          "metadata": {
            "tags": []
          },
          "execution_count": 283
        }
      ]
    },
    {
      "cell_type": "code",
      "metadata": {
        "colab_type": "code",
        "id": "9Rj8WEROFBde",
        "colab": {}
      },
      "source": [
        "X3 = df_3.drop(['DeathQ'],axis = 1)\n",
        "y3 = df_3['DeathQ']"
      ],
      "execution_count": 0,
      "outputs": []
    },
    {
      "cell_type": "code",
      "metadata": {
        "colab_type": "code",
        "outputId": "12e203ff-005f-4422-ad0a-018e0c31ff06",
        "id": "QUECoxnlFBdh",
        "colab": {
          "base_uri": "https://localhost:8080/",
          "height": 34
        }
      },
      "source": [
        "from sklearn.model_selection import train_test_split\n",
        "X_train3, X_test3, y_train3, y_test3 = train_test_split(X3, y3, stratify=df_3['DeathQ'],test_size=0.3, random_state=10)\n",
        "X_test3.shape"
      ],
      "execution_count": 285,
      "outputs": [
        {
          "output_type": "execute_result",
          "data": {
            "text/plain": [
              "(222, 15)"
            ]
          },
          "metadata": {
            "tags": []
          },
          "execution_count": 285
        }
      ]
    },
    {
      "cell_type": "code",
      "metadata": {
        "id": "pm2UA4jJQiXg",
        "colab_type": "code",
        "colab": {
          "base_uri": "https://localhost:8080/",
          "height": 419
        },
        "outputId": "245db737-c915-486f-bf29-623288fdcfca"
      },
      "source": [
        "X_test3"
      ],
      "execution_count": 292,
      "outputs": [
        {
          "output_type": "execute_result",
          "data": {
            "text/html": [
              "<div>\n",
              "<style scoped>\n",
              "    .dataframe tbody tr th:only-of-type {\n",
              "        vertical-align: middle;\n",
              "    }\n",
              "\n",
              "    .dataframe tbody tr th {\n",
              "        vertical-align: top;\n",
              "    }\n",
              "\n",
              "    .dataframe thead th {\n",
              "        text-align: right;\n",
              "    }\n",
              "</style>\n",
              "<table border=\"1\" class=\"dataframe\">\n",
              "  <thead>\n",
              "    <tr style=\"text-align: right;\">\n",
              "      <th></th>\n",
              "      <th>Age</th>\n",
              "      <th>Gender</th>\n",
              "      <th>LivesInWuhan</th>\n",
              "      <th>Country</th>\n",
              "      <th>fever</th>\n",
              "      <th>cough</th>\n",
              "      <th>TravelHistoryLocation</th>\n",
              "      <th>ChronicDiseaseQ</th>\n",
              "      <th>Pneumonia</th>\n",
              "      <th>combined_symptoms</th>\n",
              "      <th>Chills</th>\n",
              "      <th>Shortness of Breath</th>\n",
              "      <th>chest pain</th>\n",
              "      <th>Headache</th>\n",
              "      <th>mild symptoms</th>\n",
              "    </tr>\n",
              "  </thead>\n",
              "  <tbody>\n",
              "    <tr>\n",
              "      <th>81</th>\n",
              "      <td>4</td>\n",
              "      <td>0</td>\n",
              "      <td>1</td>\n",
              "      <td>18</td>\n",
              "      <td>1</td>\n",
              "      <td>1</td>\n",
              "      <td>1</td>\n",
              "      <td>0</td>\n",
              "      <td>0</td>\n",
              "      <td>2</td>\n",
              "      <td>0</td>\n",
              "      <td>0</td>\n",
              "      <td>0</td>\n",
              "      <td>0</td>\n",
              "      <td>0</td>\n",
              "    </tr>\n",
              "    <tr>\n",
              "      <th>359</th>\n",
              "      <td>4</td>\n",
              "      <td>1</td>\n",
              "      <td>0</td>\n",
              "      <td>31</td>\n",
              "      <td>0</td>\n",
              "      <td>1</td>\n",
              "      <td>1</td>\n",
              "      <td>1</td>\n",
              "      <td>0</td>\n",
              "      <td>2</td>\n",
              "      <td>0</td>\n",
              "      <td>0</td>\n",
              "      <td>0</td>\n",
              "      <td>0</td>\n",
              "      <td>0</td>\n",
              "    </tr>\n",
              "    <tr>\n",
              "      <th>565</th>\n",
              "      <td>5</td>\n",
              "      <td>1</td>\n",
              "      <td>0</td>\n",
              "      <td>27</td>\n",
              "      <td>0</td>\n",
              "      <td>0</td>\n",
              "      <td>24</td>\n",
              "      <td>0</td>\n",
              "      <td>0</td>\n",
              "      <td>0</td>\n",
              "      <td>0</td>\n",
              "      <td>0</td>\n",
              "      <td>0</td>\n",
              "      <td>0</td>\n",
              "      <td>0</td>\n",
              "    </tr>\n",
              "    <tr>\n",
              "      <th>752</th>\n",
              "      <td>0</td>\n",
              "      <td>1</td>\n",
              "      <td>2</td>\n",
              "      <td>22</td>\n",
              "      <td>0</td>\n",
              "      <td>0</td>\n",
              "      <td>29</td>\n",
              "      <td>0</td>\n",
              "      <td>0</td>\n",
              "      <td>0</td>\n",
              "      <td>0</td>\n",
              "      <td>0</td>\n",
              "      <td>0</td>\n",
              "      <td>0</td>\n",
              "      <td>0</td>\n",
              "    </tr>\n",
              "    <tr>\n",
              "      <th>294</th>\n",
              "      <td>8</td>\n",
              "      <td>1</td>\n",
              "      <td>0</td>\n",
              "      <td>11</td>\n",
              "      <td>0</td>\n",
              "      <td>0</td>\n",
              "      <td>6</td>\n",
              "      <td>0</td>\n",
              "      <td>0</td>\n",
              "      <td>1</td>\n",
              "      <td>0</td>\n",
              "      <td>0</td>\n",
              "      <td>0</td>\n",
              "      <td>0</td>\n",
              "      <td>0</td>\n",
              "    </tr>\n",
              "    <tr>\n",
              "      <th>...</th>\n",
              "      <td>...</td>\n",
              "      <td>...</td>\n",
              "      <td>...</td>\n",
              "      <td>...</td>\n",
              "      <td>...</td>\n",
              "      <td>...</td>\n",
              "      <td>...</td>\n",
              "      <td>...</td>\n",
              "      <td>...</td>\n",
              "      <td>...</td>\n",
              "      <td>...</td>\n",
              "      <td>...</td>\n",
              "      <td>...</td>\n",
              "      <td>...</td>\n",
              "      <td>...</td>\n",
              "    </tr>\n",
              "    <tr>\n",
              "      <th>731</th>\n",
              "      <td>6</td>\n",
              "      <td>1</td>\n",
              "      <td>0</td>\n",
              "      <td>7</td>\n",
              "      <td>1</td>\n",
              "      <td>0</td>\n",
              "      <td>3</td>\n",
              "      <td>0</td>\n",
              "      <td>0</td>\n",
              "      <td>3</td>\n",
              "      <td>0</td>\n",
              "      <td>0</td>\n",
              "      <td>0</td>\n",
              "      <td>1</td>\n",
              "      <td>0</td>\n",
              "    </tr>\n",
              "    <tr>\n",
              "      <th>605</th>\n",
              "      <td>4</td>\n",
              "      <td>0</td>\n",
              "      <td>2</td>\n",
              "      <td>11</td>\n",
              "      <td>0</td>\n",
              "      <td>1</td>\n",
              "      <td>18</td>\n",
              "      <td>0</td>\n",
              "      <td>0</td>\n",
              "      <td>1</td>\n",
              "      <td>0</td>\n",
              "      <td>0</td>\n",
              "      <td>0</td>\n",
              "      <td>0</td>\n",
              "      <td>0</td>\n",
              "    </tr>\n",
              "    <tr>\n",
              "      <th>257</th>\n",
              "      <td>5</td>\n",
              "      <td>0</td>\n",
              "      <td>1</td>\n",
              "      <td>11</td>\n",
              "      <td>1</td>\n",
              "      <td>1</td>\n",
              "      <td>1</td>\n",
              "      <td>0</td>\n",
              "      <td>0</td>\n",
              "      <td>2</td>\n",
              "      <td>0</td>\n",
              "      <td>0</td>\n",
              "      <td>0</td>\n",
              "      <td>0</td>\n",
              "      <td>0</td>\n",
              "    </tr>\n",
              "    <tr>\n",
              "      <th>434</th>\n",
              "      <td>7</td>\n",
              "      <td>1</td>\n",
              "      <td>0</td>\n",
              "      <td>11</td>\n",
              "      <td>0</td>\n",
              "      <td>0</td>\n",
              "      <td>30</td>\n",
              "      <td>0</td>\n",
              "      <td>0</td>\n",
              "      <td>0</td>\n",
              "      <td>0</td>\n",
              "      <td>0</td>\n",
              "      <td>0</td>\n",
              "      <td>0</td>\n",
              "      <td>0</td>\n",
              "    </tr>\n",
              "    <tr>\n",
              "      <th>21</th>\n",
              "      <td>5</td>\n",
              "      <td>1</td>\n",
              "      <td>1</td>\n",
              "      <td>11</td>\n",
              "      <td>1</td>\n",
              "      <td>0</td>\n",
              "      <td>1</td>\n",
              "      <td>0</td>\n",
              "      <td>0</td>\n",
              "      <td>1</td>\n",
              "      <td>0</td>\n",
              "      <td>0</td>\n",
              "      <td>0</td>\n",
              "      <td>0</td>\n",
              "      <td>0</td>\n",
              "    </tr>\n",
              "  </tbody>\n",
              "</table>\n",
              "<p>222 rows × 15 columns</p>\n",
              "</div>"
            ],
            "text/plain": [
              "     Age  Gender  LivesInWuhan  ...  chest pain  Headache  mild symptoms\n",
              "81     4       0             1  ...           0         0              0\n",
              "359    4       1             0  ...           0         0              0\n",
              "565    5       1             0  ...           0         0              0\n",
              "752    0       1             2  ...           0         0              0\n",
              "294    8       1             0  ...           0         0              0\n",
              "..   ...     ...           ...  ...         ...       ...            ...\n",
              "731    6       1             0  ...           0         1              0\n",
              "605    4       0             2  ...           0         0              0\n",
              "257    5       0             1  ...           0         0              0\n",
              "434    7       1             0  ...           0         0              0\n",
              "21     5       1             1  ...           0         0              0\n",
              "\n",
              "[222 rows x 15 columns]"
            ]
          },
          "metadata": {
            "tags": []
          },
          "execution_count": 292
        }
      ]
    },
    {
      "cell_type": "code",
      "metadata": {
        "colab_type": "code",
        "id": "yykgjIibFBdj",
        "colab": {}
      },
      "source": [
        "from sklearn.preprocessing import StandardScaler\n",
        "scaler = StandardScaler()"
      ],
      "execution_count": 0,
      "outputs": []
    },
    {
      "cell_type": "code",
      "metadata": {
        "colab_type": "code",
        "id": "XoCmv6RCFBdl",
        "colab": {}
      },
      "source": [
        "scaler.fit(X_train)\n",
        "X_train = scaler.transform(X_train)\n",
        "X_test = scaler.transform(X_test)"
      ],
      "execution_count": 0,
      "outputs": []
    },
    {
      "cell_type": "code",
      "metadata": {
        "colab_type": "code",
        "outputId": "51cda91a-b21e-4013-8637-90a9684177e5",
        "id": "1DQbpytSFBdo",
        "colab": {
          "base_uri": "https://localhost:8080/",
          "height": 207
        }
      },
      "source": [
        "print(\"Before OverSampling, counts of label '1': {}\".format(sum(y_train3 == 1))) \n",
        "print(\"Before OverSampling, counts of label '0': {} \\n\".format(sum(y_train3 == 0))) \n",
        "  \n",
        "# import SMOTE module from imblearn library \n",
        "# pip install imblearn (if you don't have imblearn in your system) \n",
        "from imblearn.over_sampling import SMOTE \n",
        "sm = SMOTE(random_state = 2) \n",
        "X_train_res3, y_train_res3 = sm.fit_sample(X_train3, y_train3.ravel()) \n",
        "  \n",
        "print('After OverSampling, the shape of train_X: {}'.format(X_train_res3.shape)) \n",
        "print('After OverSampling, the shape of train_y: {} \\n'.format(y_train_res3.shape)) \n",
        "  \n",
        "print(\"After OverSampling, counts of label '1': {}\".format(sum(y_train_res3 == 1))) \n",
        "print(\"After OverSampling, counts of label '0': {}\".format(sum(y_train_res3 == 0)))"
      ],
      "execution_count": 289,
      "outputs": [
        {
          "output_type": "stream",
          "text": [
            "Before OverSampling, counts of label '1': 33\n",
            "Before OverSampling, counts of label '0': 484 \n",
            "\n",
            "After OverSampling, the shape of train_X: (968, 15)\n",
            "After OverSampling, the shape of train_y: (968,) \n",
            "\n",
            "After OverSampling, counts of label '1': 484\n",
            "After OverSampling, counts of label '0': 484\n"
          ],
          "name": "stdout"
        },
        {
          "output_type": "stream",
          "text": [
            "/usr/local/lib/python3.6/dist-packages/sklearn/utils/deprecation.py:87: FutureWarning: Function safe_indexing is deprecated; safe_indexing is deprecated in version 0.22 and will be removed in version 0.24.\n",
            "  warnings.warn(msg, category=FutureWarning)\n"
          ],
          "name": "stderr"
        }
      ]
    },
    {
      "cell_type": "code",
      "metadata": {
        "id": "23WSGgceQ3ZC",
        "colab_type": "code",
        "colab": {
          "base_uri": "https://localhost:8080/",
          "height": 71
        },
        "outputId": "77900b7c-c10b-4d36-e73a-9167a5db76be"
      },
      "source": [
        "X_test_res3, y_test_res3 = sm.fit_sample(X_test3, y_test3.ravel()) "
      ],
      "execution_count": 293,
      "outputs": [
        {
          "output_type": "stream",
          "text": [
            "/usr/local/lib/python3.6/dist-packages/sklearn/utils/deprecation.py:87: FutureWarning: Function safe_indexing is deprecated; safe_indexing is deprecated in version 0.22 and will be removed in version 0.24.\n",
            "  warnings.warn(msg, category=FutureWarning)\n"
          ],
          "name": "stderr"
        }
      ]
    },
    {
      "cell_type": "code",
      "metadata": {
        "colab_type": "code",
        "outputId": "3409a2f7-1741-4f4c-d740-91e6c47b7bf6",
        "id": "7fF_JtufFBdq",
        "colab": {
          "base_uri": "https://localhost:8080/",
          "height": 68
        }
      },
      "source": [
        "import statsmodels.api as sm\n",
        "\n",
        "# Fit the logistic regression function\n",
        "logReg_6 = sm.Logit(y_train_res3,X_train_res3)\n",
        "answer_6 = logReg_6.fit()"
      ],
      "execution_count": 276,
      "outputs": [
        {
          "output_type": "stream",
          "text": [
            "Optimization terminated successfully.\n",
            "         Current function value: 0.403627\n",
            "         Iterations 20\n"
          ],
          "name": "stdout"
        }
      ]
    },
    {
      "cell_type": "code",
      "metadata": {
        "id": "u-nPyDvBG22-",
        "colab_type": "code",
        "colab": {
          "base_uri": "https://localhost:8080/",
          "height": 408
        },
        "outputId": "6b20798e-4077-4a99-f872-7149050e6089"
      },
      "source": [
        "df_3.info()"
      ],
      "execution_count": 277,
      "outputs": [
        {
          "output_type": "stream",
          "text": [
            "<class 'pandas.core.frame.DataFrame'>\n",
            "Int64Index: 739 entries, 0 to 761\n",
            "Data columns (total 16 columns):\n",
            " #   Column                 Non-Null Count  Dtype\n",
            "---  ------                 --------------  -----\n",
            " 0   Age                    739 non-null    int64\n",
            " 1   Gender                 739 non-null    int64\n",
            " 2   LivesInWuhan           739 non-null    int64\n",
            " 3   Country                739 non-null    int64\n",
            " 4   fever                  739 non-null    int64\n",
            " 5   cough                  739 non-null    int64\n",
            " 6   TravelHistoryLocation  739 non-null    int64\n",
            " 7   ChronicDiseaseQ        739 non-null    int64\n",
            " 8   Pneumonia              739 non-null    int64\n",
            " 9   combined_symptoms      739 non-null    int64\n",
            " 10  Chills                 739 non-null    int64\n",
            " 11  Shortness of Breath    739 non-null    int64\n",
            " 12  chest pain             739 non-null    int64\n",
            " 13  Headache               739 non-null    int64\n",
            " 14  mild symptoms          739 non-null    int64\n",
            " 15  DeathQ                 739 non-null    int64\n",
            "dtypes: int64(16)\n",
            "memory usage: 118.1 KB\n"
          ],
          "name": "stdout"
        }
      ]
    },
    {
      "cell_type": "code",
      "metadata": {
        "colab_type": "code",
        "outputId": "1c595ea0-be3e-4075-95e2-0618b48a3cae",
        "id": "WYkDzv2LFBds",
        "colab": {
          "base_uri": "https://localhost:8080/",
          "height": 493
        }
      },
      "source": [
        "print(answer_6.summary())"
      ],
      "execution_count": 278,
      "outputs": [
        {
          "output_type": "stream",
          "text": [
            "                           Logit Regression Results                           \n",
            "==============================================================================\n",
            "Dep. Variable:                      y   No. Observations:                  968\n",
            "Model:                          Logit   Df Residuals:                      953\n",
            "Method:                           MLE   Df Model:                           14\n",
            "Date:                Sat, 09 May 2020   Pseudo R-squ.:                  0.4177\n",
            "Time:                        02:22:27   Log-Likelihood:                -390.71\n",
            "converged:                       True   LL-Null:                       -670.97\n",
            "Covariance Type:            nonrobust   LLR p-value:                1.330e-110\n",
            "==============================================================================\n",
            "                 coef    std err          z      P>|z|      [0.025      0.975]\n",
            "------------------------------------------------------------------------------\n",
            "x1             0.0394      0.049      0.808      0.419      -0.056       0.135\n",
            "x2             0.4856      0.193      2.518      0.012       0.108       0.864\n",
            "x3             0.3563      0.149      2.396      0.017       0.065       0.648\n",
            "x4            -0.1449      0.017     -8.314      0.000      -0.179      -0.111\n",
            "x5            -2.1112      0.249     -8.494      0.000      -2.598      -1.624\n",
            "x6             0.0191      0.258      0.074      0.941      -0.486       0.524\n",
            "x7             0.0846      0.009      9.046      0.000       0.066       0.103\n",
            "x8             2.6910      0.409      6.578      0.000       1.889       3.493\n",
            "x9             0.7933      0.484      1.638      0.101      -0.156       1.742\n",
            "x10            0.3732      0.165      2.262      0.024       0.050       0.697\n",
            "x11           -3.9077      1.138     -3.435      0.001      -6.137      -1.678\n",
            "x12           -1.3645      0.665     -2.053      0.040      -2.667      -0.062\n",
            "x13           -3.9408      1.250     -3.152      0.002      -6.391      -1.491\n",
            "x14           -5.3294      1.293     -4.121      0.000      -7.864      -2.795\n",
            "x15          -59.3052   1.02e+12   -5.8e-11      1.000      -2e+12       2e+12\n",
            "==============================================================================\n"
          ],
          "name": "stdout"
        }
      ]
    },
    {
      "cell_type": "markdown",
      "metadata": {
        "id": "Nwvg5lJIWat7",
        "colab_type": "text"
      },
      "source": [
        "**From above results my most significant features are Gender, LivesInWuhan, country, fever,TravelHistoryLocation,chronicDiseaseQ, combines symptoms, chills, shortness of breadth, chest pain and headache**\n",
        "\n",
        "\n"
      ]
    },
    {
      "cell_type": "code",
      "metadata": {
        "id": "fQ8hGZjzIHnH",
        "colab_type": "code",
        "colab": {}
      },
      "source": [
        "from sklearn.model_selection import train_test_split\n",
        "from sklearn.linear_model import LogisticRegression\n",
        "from sklearn.tree import DecisionTreeClassifier\n",
        "from sklearn.ensemble import RandomForestClassifier\n",
        "from sklearn.naive_bayes import GaussianNB\n",
        "from sklearn.neighbors import KNeighborsClassifier\n",
        "from sklearn.svm import LinearSVC,SVC\n",
        "from sklearn.ensemble import AdaBoostClassifier\n",
        "from sklearn.ensemble import GradientBoostingClassifier\n",
        "from sklearn.ensemble import ExtraTreesClassifier\n",
        "from sklearn.metrics import accuracy_score\n",
        "from sklearn.preprocessing import LabelEncoder, MinMaxScaler\n",
        "from sklearn.tree import plot_tree\n",
        "from sklearn.model_selection import GridSearchCV\n",
        "from sklearn.model_selection import StratifiedKFold\n",
        "#from xgboost import XGBClassifier\n",
        "#from catboost import CatBoostClassifier\n",
        "from sklearn.metrics import confusion_matrix,accuracy_score,classification_report\n",
        "from sklearn.metrics import roc_auc_score,roc_curve,scorer\n",
        "from sklearn.metrics import f1_score\n",
        "import statsmodels.api as sm\n",
        "from sklearn.metrics import precision_score,recall_score\n",
        "#from yellowbrick.classifier import DiscriminationThreshold"
      ],
      "execution_count": 0,
      "outputs": []
    },
    {
      "cell_type": "code",
      "metadata": {
        "id": "g5EeVkC4Oa56",
        "colab_type": "code",
        "colab": {
          "base_uri": "https://localhost:8080/",
          "height": 255
        },
        "outputId": "27ff4363-9e5a-4253-d2da-e91ebcd321d4"
      },
      "source": [
        "from xgboost import XGBClassifier\n",
        "import pandas as pd\n",
        "classifiers = [['DecisionTree :',DecisionTreeClassifier()],\n",
        "               ['Naive Bayes :', GaussianNB()],\n",
        "               ['KNeighbours :', KNeighborsClassifier()],\n",
        "               ['LogisticRegression :', LogisticRegression()],\n",
        "               ['XgBoostClassifier :', XGBClassifier()],\n",
        "               ['Random Forest :', RandomForestClassifier()]]\n",
        "\n",
        "\n",
        "\n",
        "\n",
        "recall_df = pd.DataFrame(columns=['name','recall score'])\n",
        "f1_df = pd.DataFrame(columns=['name','f1 score'])\n",
        "\n",
        "for name,classifier in classifiers:\n",
        "    clf = classifier\n",
        "    #y_train_res,X_train_res\n",
        "    clf.fit(X_train_res3, y_train_res3)\n",
        "    predictions = clf.predict(X_test_res3)\n",
        "    recall_s = recall_score(y_test_res3, predictions)\n",
        "    f1_s = f1_score(y_test_res3, predictions)\n",
        "    print(name, recall_s)\n",
        "    recall_df = recall_df.append({'name':name,'recall score':recall_s},ignore_index=True)\n",
        "    f1_df = f1_df.append({'name':name,'f1 score':f1_s},ignore_index=True)"
      ],
      "execution_count": 296,
      "outputs": [
        {
          "output_type": "stream",
          "text": [
            "DecisionTree : 0.8509615384615384\n",
            "Naive Bayes : 0.8125\n",
            "KNeighbours : 0.8365384615384616\n",
            "LogisticRegression : 0.8076923076923077\n",
            "XgBoostClassifier : 0.7740384615384616\n"
          ],
          "name": "stdout"
        },
        {
          "output_type": "stream",
          "text": [
            "/usr/local/lib/python3.6/dist-packages/sklearn/linear_model/_logistic.py:940: ConvergenceWarning: lbfgs failed to converge (status=1):\n",
            "STOP: TOTAL NO. of ITERATIONS REACHED LIMIT.\n",
            "\n",
            "Increase the number of iterations (max_iter) or scale the data as shown in:\n",
            "    https://scikit-learn.org/stable/modules/preprocessing.html\n",
            "Please also refer to the documentation for alternative solver options:\n",
            "    https://scikit-learn.org/stable/modules/linear_model.html#logistic-regression\n",
            "  extra_warning_msg=_LOGISTIC_SOLVER_CONVERGENCE_MSG)\n"
          ],
          "name": "stderr"
        },
        {
          "output_type": "stream",
          "text": [
            "Random Forest : 0.7596153846153846\n"
          ],
          "name": "stdout"
        }
      ]
    },
    {
      "cell_type": "code",
      "metadata": {
        "id": "MXuqVwUxO6hC",
        "colab_type": "code",
        "colab": {
          "base_uri": "https://localhost:8080/",
          "height": 235
        },
        "outputId": "50f87238-67d2-466d-a5bc-7baa780a44fb"
      },
      "source": [
        "f1_df"
      ],
      "execution_count": 297,
      "outputs": [
        {
          "output_type": "execute_result",
          "data": {
            "text/html": [
              "<div>\n",
              "<style scoped>\n",
              "    .dataframe tbody tr th:only-of-type {\n",
              "        vertical-align: middle;\n",
              "    }\n",
              "\n",
              "    .dataframe tbody tr th {\n",
              "        vertical-align: top;\n",
              "    }\n",
              "\n",
              "    .dataframe thead th {\n",
              "        text-align: right;\n",
              "    }\n",
              "</style>\n",
              "<table border=\"1\" class=\"dataframe\">\n",
              "  <thead>\n",
              "    <tr style=\"text-align: right;\">\n",
              "      <th></th>\n",
              "      <th>name</th>\n",
              "      <th>f1 score</th>\n",
              "    </tr>\n",
              "  </thead>\n",
              "  <tbody>\n",
              "    <tr>\n",
              "      <th>0</th>\n",
              "      <td>DecisionTree :</td>\n",
              "      <td>0.905371</td>\n",
              "    </tr>\n",
              "    <tr>\n",
              "      <th>1</th>\n",
              "      <td>Naive Bayes :</td>\n",
              "      <td>0.717622</td>\n",
              "    </tr>\n",
              "    <tr>\n",
              "      <th>2</th>\n",
              "      <td>KNeighbours :</td>\n",
              "      <td>0.881013</td>\n",
              "    </tr>\n",
              "    <tr>\n",
              "      <th>3</th>\n",
              "      <td>LogisticRegression :</td>\n",
              "      <td>0.825553</td>\n",
              "    </tr>\n",
              "    <tr>\n",
              "      <th>4</th>\n",
              "      <td>XgBoostClassifier :</td>\n",
              "      <td>0.865591</td>\n",
              "    </tr>\n",
              "    <tr>\n",
              "      <th>5</th>\n",
              "      <td>Random Forest :</td>\n",
              "      <td>0.856369</td>\n",
              "    </tr>\n",
              "  </tbody>\n",
              "</table>\n",
              "</div>"
            ],
            "text/plain": [
              "                   name  f1 score\n",
              "0        DecisionTree :  0.905371\n",
              "1         Naive Bayes :  0.717622\n",
              "2         KNeighbours :  0.881013\n",
              "3  LogisticRegression :  0.825553\n",
              "4   XgBoostClassifier :  0.865591\n",
              "5       Random Forest :  0.856369"
            ]
          },
          "metadata": {
            "tags": []
          },
          "execution_count": 297
        }
      ]
    },
    {
      "cell_type": "code",
      "metadata": {
        "id": "oi0Nugl9ZALz",
        "colab_type": "code",
        "colab": {
          "base_uri": "https://localhost:8080/",
          "height": 235
        },
        "outputId": "5a548af3-4369-4e33-afd9-1f860a0dbf3a"
      },
      "source": [
        "recall_df "
      ],
      "execution_count": 327,
      "outputs": [
        {
          "output_type": "execute_result",
          "data": {
            "text/html": [
              "<div>\n",
              "<style scoped>\n",
              "    .dataframe tbody tr th:only-of-type {\n",
              "        vertical-align: middle;\n",
              "    }\n",
              "\n",
              "    .dataframe tbody tr th {\n",
              "        vertical-align: top;\n",
              "    }\n",
              "\n",
              "    .dataframe thead th {\n",
              "        text-align: right;\n",
              "    }\n",
              "</style>\n",
              "<table border=\"1\" class=\"dataframe\">\n",
              "  <thead>\n",
              "    <tr style=\"text-align: right;\">\n",
              "      <th></th>\n",
              "      <th>name</th>\n",
              "      <th>recall score</th>\n",
              "    </tr>\n",
              "  </thead>\n",
              "  <tbody>\n",
              "    <tr>\n",
              "      <th>0</th>\n",
              "      <td>DecisionTree :</td>\n",
              "      <td>0.850962</td>\n",
              "    </tr>\n",
              "    <tr>\n",
              "      <th>1</th>\n",
              "      <td>Naive Bayes :</td>\n",
              "      <td>0.812500</td>\n",
              "    </tr>\n",
              "    <tr>\n",
              "      <th>2</th>\n",
              "      <td>KNeighbours :</td>\n",
              "      <td>0.836538</td>\n",
              "    </tr>\n",
              "    <tr>\n",
              "      <th>3</th>\n",
              "      <td>LogisticRegression :</td>\n",
              "      <td>0.807692</td>\n",
              "    </tr>\n",
              "    <tr>\n",
              "      <th>4</th>\n",
              "      <td>XgBoostClassifier :</td>\n",
              "      <td>0.774038</td>\n",
              "    </tr>\n",
              "    <tr>\n",
              "      <th>5</th>\n",
              "      <td>Random Forest :</td>\n",
              "      <td>0.759615</td>\n",
              "    </tr>\n",
              "  </tbody>\n",
              "</table>\n",
              "</div>"
            ],
            "text/plain": [
              "                   name  recall score\n",
              "0        DecisionTree :      0.850962\n",
              "1         Naive Bayes :      0.812500\n",
              "2         KNeighbours :      0.836538\n",
              "3  LogisticRegression :      0.807692\n",
              "4   XgBoostClassifier :      0.774038\n",
              "5       Random Forest :      0.759615"
            ]
          },
          "metadata": {
            "tags": []
          },
          "execution_count": 327
        }
      ]
    },
    {
      "cell_type": "markdown",
      "metadata": {
        "id": "Gg6KCnLYRinz",
        "colab_type": "text"
      },
      "source": [
        "# **Hyperparameter Tuning**"
      ]
    },
    {
      "cell_type": "code",
      "metadata": {
        "id": "4hkGptvcRe2J",
        "colab_type": "code",
        "colab": {}
      },
      "source": [
        ""
      ],
      "execution_count": 0,
      "outputs": []
    },
    {
      "cell_type": "code",
      "metadata": {
        "colab_type": "code",
        "id": "cSaHCPz2unUe",
        "colab": {}
      },
      "source": [
        "dt = DecisionTreeClassifier()"
      ],
      "execution_count": 0,
      "outputs": []
    },
    {
      "cell_type": "code",
      "metadata": {
        "colab_type": "code",
        "id": "PqD36edSunUf",
        "outputId": "887042e6-3895-451c-dc50-85e37e8b4571",
        "colab": {
          "base_uri": "https://localhost:8080/",
          "height": 119
        }
      },
      "source": [
        "dt"
      ],
      "execution_count": 300,
      "outputs": [
        {
          "output_type": "execute_result",
          "data": {
            "text/plain": [
              "DecisionTreeClassifier(ccp_alpha=0.0, class_weight=None, criterion='gini',\n",
              "                       max_depth=None, max_features=None, max_leaf_nodes=None,\n",
              "                       min_impurity_decrease=0.0, min_impurity_split=None,\n",
              "                       min_samples_leaf=1, min_samples_split=2,\n",
              "                       min_weight_fraction_leaf=0.0, presort='deprecated',\n",
              "                       random_state=None, splitter='best')"
            ]
          },
          "metadata": {
            "tags": []
          },
          "execution_count": 300
        }
      ]
    },
    {
      "cell_type": "code",
      "metadata": {
        "colab_type": "code",
        "id": "lE_uf2aDunUg",
        "outputId": "a8d0cad3-a1e4-4ca5-c06f-a32e0d51e6b8",
        "colab": {
          "base_uri": "https://localhost:8080/",
          "height": 340
        }
      },
      "source": [
        "kf = StratifiedKFold(n_splits=3)\n",
        "param_grid_dt = {'criterion': ['gini', 'entropy'],\n",
        "              'max_depth': [5,8,10,15,20,25,30],\n",
        "              'max_leaf_nodes': [7,8,9,10,12,15,20]}\n",
        "grid_dt = GridSearchCV(dt, param_grid_dt, cv= 3, scoring='recall')\n",
        "grid_dt.fit(X_train_res3, y_train_res3)"
      ],
      "execution_count": 319,
      "outputs": [
        {
          "output_type": "execute_result",
          "data": {
            "text/plain": [
              "GridSearchCV(cv=3, error_score=nan,\n",
              "             estimator=DecisionTreeClassifier(ccp_alpha=0.0, class_weight=None,\n",
              "                                              criterion='gini', max_depth=None,\n",
              "                                              max_features=None,\n",
              "                                              max_leaf_nodes=None,\n",
              "                                              min_impurity_decrease=0.0,\n",
              "                                              min_impurity_split=None,\n",
              "                                              min_samples_leaf=1,\n",
              "                                              min_samples_split=2,\n",
              "                                              min_weight_fraction_leaf=0.0,\n",
              "                                              presort='deprecated',\n",
              "                                              random_state=None,\n",
              "                                              splitter='best'),\n",
              "             iid='deprecated', n_jobs=None,\n",
              "             param_grid={'criterion': ['gini', 'entropy'],\n",
              "                         'max_depth': [5, 8, 10, 15, 20, 25, 30],\n",
              "                         'max_leaf_nodes': [7, 8, 9, 10, 12, 15, 20]},\n",
              "             pre_dispatch='2*n_jobs', refit=True, return_train_score=False,\n",
              "             scoring='recall', verbose=0)"
            ]
          },
          "metadata": {
            "tags": []
          },
          "execution_count": 319
        }
      ]
    },
    {
      "cell_type": "code",
      "metadata": {
        "id": "EEOTSL6Jd6qE",
        "colab_type": "code",
        "outputId": "db01a095-4be0-4503-81a1-695ff00230ec",
        "colab": {
          "base_uri": "https://localhost:8080/",
          "height": 119
        }
      },
      "source": [
        "grid_dt.best_estimator_"
      ],
      "execution_count": 320,
      "outputs": [
        {
          "output_type": "execute_result",
          "data": {
            "text/plain": [
              "DecisionTreeClassifier(ccp_alpha=0.0, class_weight=None, criterion='gini',\n",
              "                       max_depth=8, max_features=None, max_leaf_nodes=20,\n",
              "                       min_impurity_decrease=0.0, min_impurity_split=None,\n",
              "                       min_samples_leaf=1, min_samples_split=2,\n",
              "                       min_weight_fraction_leaf=0.0, presort='deprecated',\n",
              "                       random_state=None, splitter='best')"
            ]
          },
          "metadata": {
            "tags": []
          },
          "execution_count": 320
        }
      ]
    },
    {
      "cell_type": "code",
      "metadata": {
        "colab_type": "code",
        "id": "EbFYxLWtunUj",
        "colab": {}
      },
      "source": [
        "dt_tuned = grid_dt.best_estimator_"
      ],
      "execution_count": 0,
      "outputs": []
    },
    {
      "cell_type": "code",
      "metadata": {
        "colab_type": "code",
        "id": "ajnBjm3MunUk",
        "outputId": "bb3559c5-442b-433f-a9a1-be8c2c566ae4",
        "colab": {
          "base_uri": "https://localhost:8080/",
          "height": 170
        }
      },
      "source": [
        "dt_tuned.fit(X_train_res3,y_train_res3)\n",
        "dt_pred = dt_tuned.predict(X_test_res3)\n",
        "print(classification_report(y_test_res3, dt_pred))"
      ],
      "execution_count": 322,
      "outputs": [
        {
          "output_type": "stream",
          "text": [
            "              precision    recall  f1-score   support\n",
            "\n",
            "           0       0.87      0.98      0.92       208\n",
            "           1       0.97      0.85      0.91       208\n",
            "\n",
            "    accuracy                           0.91       416\n",
            "   macro avg       0.92      0.91      0.91       416\n",
            "weighted avg       0.92      0.91      0.91       416\n",
            "\n"
          ],
          "name": "stdout"
        }
      ]
    },
    {
      "cell_type": "code",
      "metadata": {
        "id": "Kx2i-AOzS9Rv",
        "colab_type": "code",
        "colab": {}
      },
      "source": [
        ""
      ],
      "execution_count": 0,
      "outputs": []
    },
    {
      "cell_type": "code",
      "metadata": {
        "colab_type": "code",
        "id": "3lF-T8FeunUn",
        "outputId": "f5abe08f-18b3-4408-fa6b-97f9ee24ce1d",
        "colab": {
          "base_uri": "https://localhost:8080/",
          "height": 448
        }
      },
      "source": [
        "plt.figure(figsize=(12,7))\n",
        "base_probs = [0 for _ in range(len(y_test_res3))]\n",
        "\n",
        "best_probs = dt_tuned.predict_proba(X_test_res3)\n",
        "best_probs = best_probs[:, 1]\n",
        "\n",
        "base_fpr, base_tpr, _ = roc_curve(y_test_res3, base_probs)\n",
        "best_fpr, best_tpr, _ = roc_curve(y_test_res3, best_probs)\n",
        "\n",
        "plt.plot(base_fpr, base_tpr, linestyle='dashdot', label='Base Decision Tree Model',color='Green')\n",
        "plt.plot(best_fpr, best_tpr, marker='.', label='Best Decision Tree Model',color='Red',markeredgecolor='Blue',markersize=10)\n",
        "\n",
        "plt.xlabel('False Positive Rate')\n",
        "plt.ylabel('True Positive Rate')\n",
        "\n",
        "plt.legend()\n",
        "\n",
        "plt.show()"
      ],
      "execution_count": 323,
      "outputs": [
        {
          "output_type": "display_data",
          "data": {
            "image/png": "[encoded data removed]",
            "text/plain": [
              "<Figure size 864x504 with 1 Axes>"
            ]
          },
          "metadata": {
            "tags": []
          }
        }
      ]
    },
    {
      "cell_type": "code",
      "metadata": {
        "colab_type": "code",
        "id": "p-_7GbOlunUo",
        "outputId": "36fa0fd8-0803-4f3d-97ff-639954a121af",
        "colab": {
          "base_uri": "https://localhost:8080/",
          "height": 51
        }
      },
      "source": [
        "base_probs = [0 for _ in range(len(y_test_res3))]\n",
        "\n",
        "best_probs = dt_tuned.predict_proba(X_test_res3)\n",
        "best_probs = best_probs[:, 1]\n",
        "\n",
        "base_auc = roc_auc_score(y_test_res3, base_probs)\n",
        "best_auc = roc_auc_score(y_test_res3, best_probs)\n",
        "\n",
        "print('Base Decision Tree Model: Auc = %.3f' % (base_auc))\n",
        "print('Best Decision Tree Model: Auc = %.3f' % (best_auc))"
      ],
      "execution_count": 324,
      "outputs": [
        {
          "output_type": "stream",
          "text": [
            "Base Decision Tree Model: Auc = 0.500\n",
            "Best Decision Tree Model: Auc = 0.898\n"
          ],
          "name": "stdout"
        }
      ]
    },
    {
      "cell_type": "code",
      "metadata": {
        "colab_type": "code",
        "id": "cQmkVfCZunUp",
        "outputId": "4f3df4fb-2c8a-4637-8550-0c1671ee328b",
        "colab": {
          "base_uri": "https://localhost:8080/",
          "height": 751
        }
      },
      "source": [
        "from sklearn.tree import plot_tree\n",
        "plt.figure(figsize=(40,20))\n",
        "plot_tree(dt_tuned,filled=True,feature_names=X.columns,class_names=['No(death)','Yes(death)'])\n",
        "plt.show()"
      ],
      "execution_count": 325,
      "outputs": [
        {
          "output_type": "display_data",
          "data": {
            "image/png": "[encoded data removed]",
            "text/plain": [
              "<Figure size 2880x1440 with 1 Axes>"
            ]
          },
          "metadata": {
            "tags": []
          }
        }
      ]
    },
    {
      "cell_type": "code",
      "metadata": {
        "id": "fvYKFbCcsG1k",
        "colab_type": "code",
        "outputId": "7994da7f-0002-4944-b5b3-66cbd2ef171b",
        "colab": {
          "base_uri": "https://localhost:8080/",
          "height": 666
        }
      },
      "source": [
        "feature_importances = pd.Series(dt_tuned.feature_importances_, index=X3.columns)\n",
        "print(feature_importances)\n",
        "feature_importances.sort_values(inplace=True)\n",
        "feature_importances.plot(kind='barh', figsize=(7,6))"
      ],
      "execution_count": 326,
      "outputs": [
        {
          "output_type": "stream",
          "text": [
            "Age                      0.011360\n",
            "Gender                   0.000000\n",
            "LivesInWuhan             0.236554\n",
            "Country                  0.065337\n",
            "fever                    0.039514\n",
            "cough                    0.001649\n",
            "TravelHistoryLocation    0.467553\n",
            "ChronicDiseaseQ          0.140091\n",
            "Pneumonia                0.000000\n",
            "combined_symptoms        0.037942\n",
            "Chills                   0.000000\n",
            "Shortness of Breath      0.000000\n",
            "chest pain               0.000000\n",
            "Headache                 0.000000\n",
            "mild symptoms            0.000000\n",
            "dtype: float64\n"
          ],
          "name": "stdout"
        },
        {
          "output_type": "execute_result",
          "data": {
            "text/plain": [
              "<matplotlib.axes._subplots.AxesSubplot at 0x7fcb6011eda0>"
            ]
          },
          "metadata": {
            "tags": []
          },
          "execution_count": 326
        },
        {
          "output_type": "display_data",
          "data": {
            "image/png": "[encoded data removed]",
            "text/plain": [
              "<Figure size 504x432 with 1 Axes>"
            ]
          },
          "metadata": {
            "tags": []
          }
        }
      ]
    },
    {
      "cell_type": "code",
      "metadata": {
        "id": "UTnXzU3QT9gq",
        "colab_type": "code",
        "colab": {}
      },
      "source": [
        ""
      ],
      "execution_count": 0,
      "outputs": []
    },
    {
      "cell_type": "markdown",
      "metadata": {
        "id": "LDZQ8HZHcNOC",
        "colab_type": "text"
      },
      "source": [
        "# KNN"
      ]
    },
    {
      "cell_type": "code",
      "metadata": {
        "id": "IGx-hsECd6qU",
        "colab_type": "code",
        "colab": {}
      },
      "source": [
        "leaf_size = list(range(1,10))\n",
        "n_neighbors = list(range(1,10))\n",
        "p=[1,2]\n",
        "#Convert to dictionary\n",
        "hyperparameters = dict(leaf_size=leaf_size, n_neighbors=n_neighbors, p=p)\n",
        "#Create new KNN object\n",
        "knn_2 = KNeighborsClassifier()\n",
        "#Use GridSearch\n",
        "clf = GridSearchCV(knn_2, hyperparameters, cv=3)\n",
        "#Fit the model\n",
        "best_model = clf.fit(X_train_res3, y_train_res3)\n",
        "#Print The value of best Hyperparameters\n",
        "print('Best leaf_size:', best_model.best_estimator_.get_params()['leaf_size'])\n",
        "print('Best p:', best_model.best_estimator_.get_params()['p'])\n",
        "print('Best n_neighbors:', best_model.best_estimator_.get_params()['n_neighbors'])\n"
      ],
      "execution_count": 0,
      "outputs": []
    },
    {
      "cell_type": "code",
      "metadata": {
        "id": "hR9FRvLMd6qV",
        "colab_type": "code",
        "outputId": "a3938dc4-006b-4a29-f5ef-a4a46228cd89",
        "colab": {
          "base_uri": "https://localhost:8080/",
          "height": 68
        }
      },
      "source": [
        "best_model.best_estimator_"
      ],
      "execution_count": 332,
      "outputs": [
        {
          "output_type": "execute_result",
          "data": {
            "text/plain": [
              "KNeighborsClassifier(algorithm='auto', leaf_size=1, metric='minkowski',\n",
              "                     metric_params=None, n_jobs=None, n_neighbors=3, p=1,\n",
              "                     weights='uniform')"
            ]
          },
          "metadata": {
            "tags": []
          },
          "execution_count": 332
        }
      ]
    },
    {
      "cell_type": "code",
      "metadata": {
        "id": "dg0wv8yG3mHE",
        "colab_type": "code",
        "colab": {}
      },
      "source": [
        "knn_tuned = best_model.best_estimator_"
      ],
      "execution_count": 0,
      "outputs": []
    },
    {
      "cell_type": "code",
      "metadata": {
        "id": "72D3QYNRd6qX",
        "colab_type": "code",
        "outputId": "b272bb94-4323-43a2-ab83-6cca1f44acfd",
        "colab": {
          "base_uri": "https://localhost:8080/",
          "height": 170
        }
      },
      "source": [
        "knn_tuned.fit(X_train_res3,y_train_res3)\n",
        "knn_pred = knn_tuned.predict(X_test_res3)\n",
        "print(classification_report(y_test_res3, knn_pred))"
      ],
      "execution_count": 334,
      "outputs": [
        {
          "output_type": "stream",
          "text": [
            "              precision    recall  f1-score   support\n",
            "\n",
            "           0       0.87      0.94      0.91       208\n",
            "           1       0.94      0.86      0.90       208\n",
            "\n",
            "    accuracy                           0.90       416\n",
            "   macro avg       0.90      0.90      0.90       416\n",
            "weighted avg       0.90      0.90      0.90       416\n",
            "\n"
          ],
          "name": "stdout"
        }
      ]
    },
    {
      "cell_type": "code",
      "metadata": {
        "id": "1VRau0S8YW6B",
        "colab_type": "code",
        "outputId": "17f36ae3-933c-443e-9d9b-793cd64db8c2",
        "colab": {
          "base_uri": "https://localhost:8080/",
          "height": 301
        }
      },
      "source": [
        "\n",
        "from sklearn.datasets import load_breast_cancer\n",
        "from sklearn.neighbors import KNeighborsClassifier\n",
        "from sklearn.model_selection import train_test_split\n",
        "from sklearn.metrics import roc_curve\n",
        "from sklearn.metrics import auc\n",
        "import matplotlib.pyplot as plt\n",
        "\n",
        "y_scores = knn_tuned.predict_proba(X_test_res3)\n",
        "fpr, tpr, threshold = roc_curve(y_test_res3, y_scores[:, 1])\n",
        "roc_auc = auc(fpr, tpr)\n",
        "\n",
        "plt.title('Receiver Operating Characteristic')\n",
        "plt.plot(fpr, tpr, 'b', label = 'AUC = %0.2f' % roc_auc)\n",
        "plt.legend(loc = 'lower right')\n",
        "plt.plot([0, 1], [0, 1],'r--')\n",
        "plt.xlim([0, 1])\n",
        "plt.ylim([0, 1])\n",
        "plt.ylabel('True Positive Rate')\n",
        "plt.xlabel('False Positive Rate')\n",
        "plt.title('ROC Curve of KNN')\n",
        "plt.show()"
      ],
      "execution_count": 336,
      "outputs": [
        {
          "output_type": "display_data",
          "data": {
            "image/png": "[encoded data removed]",
            "text/plain": [
              "<Figure size 432x288 with 1 Axes>"
            ]
          },
          "metadata": {
            "tags": []
          }
        }
      ]
    }
  ]
}